{
  "nbformat": 4,
  "nbformat_minor": 0,
  "metadata": {
    "colab": {
      "name": "week2_mlp__to_complete.ipynb",
      "provenance": [],
      "collapsed_sections": [],
      "toc_visible": true
    },
    "language_info": {
      "codemirror_mode": {
        "name": "ipython",
        "version": 3
      },
      "file_extension": ".py",
      "mimetype": "text/x-python",
      "name": "python",
      "nbconvert_exporter": "python",
      "pygments_lexer": "ipython3",
      "version": "3.7.0"
    },
    "kernelspec": {
      "display_name": "Python 3",
      "language": "python",
      "name": "python3"
    },
    "accelerator": "GPU"
  },
  "cells": [
    {
      "cell_type": "markdown",
      "metadata": {
        "id": "mipSoOVlavkb"
      },
      "source": [
        "# IVADO/MILA DEEP LEARNING SCHOOL\n",
        "# Spring 2021\n",
        "# Tutorial : Categorical data with multilayer perceptron (MLP)\n",
        "\n",
        "## Authors: \n",
        "\n",
        "Arsène Fansi Tchango <arsene.fansi.tchango@mila.quebec>\n",
        "\n",
        "Gaétan Marceau Caron <gaetan.marceau.caron@mila.quebec>"
      ]
    },
    {
      "cell_type": "markdown",
      "metadata": {
        "id": "sLHwvggEZERd"
      },
      "source": [
        "# Preface"
      ]
    },
    {
      "cell_type": "markdown",
      "metadata": {
        "id": "JKNGtQkkohiM"
      },
      "source": [
        "This tutorial introduces the practical aspects of Deep Learning through the realization of a simple end-to-end project. We will use the deep learning library <a href=\"https://pytorch.org/\"> `PyTorch`</a>, which is well-known for its ease of use."
      ]
    },
    {
      "cell_type": "markdown",
      "metadata": {
        "id": "Tu9DZNmYpePz"
      },
      "source": [
        "# Initialization"
      ]
    },
    {
      "cell_type": "markdown",
      "metadata": {
        "id": "iWCNdeTIpkCa"
      },
      "source": [
        "Before we begin, we must install all the required libraries for this part of the tutorial. To do so, we will use the `pip` utility. Execute the cell below by selecting it and pressing `shift`+`Enter`. (This operation may take a few minutes.)\n",
        "\n",
        "We need to be using the latest version of `pillow` for this tutorial. If you are prompted with:\n",
        "\n",
        "> WARNING: The following packages were previously imported in this runtime:\n",
        "  [PIL]\n",
        "You must restart the runtime in order to use newly installed versions.\n",
        "\n",
        "Then click on restart runtime and rerun the cells afterwards."
      ]
    },
    {
      "cell_type": "code",
      "metadata": {
        "id": "9g_0k-_Eppi-"
      },
      "source": [
        "!pip3 install torch torchvision matplotlib\n",
        "!pip3 install --upgrade pillow==8.1.0"
      ],
      "execution_count": null,
      "outputs": []
    },
    {
      "cell_type": "markdown",
      "metadata": {
        "id": "VKufekB4FnqN"
      },
      "source": [
        "To ensure that all required libraries are available, let's try to load all libraries and modules we will need during this tutorial by executing this cell: "
      ]
    },
    {
      "cell_type": "code",
      "metadata": {
        "id": "loLQlRg3sV-r"
      },
      "source": [
        "import importlib\n",
        "required_libraries = ['torch', 'torchvision', 'PIL', 'matplotlib', \n",
        "                      'numpy', 'pandas']\n",
        "for lib in required_libraries:\n",
        "    if importlib.util.find_spec(lib) is None:\n",
        "        print(\"%s unavailable\" % lib)\n",
        "\n",
        "import matplotlib.pyplot as plt\n",
        "%matplotlib inline"
      ],
      "execution_count": 2,
      "outputs": []
    },
    {
      "cell_type": "code",
      "metadata": {
        "id": "FeLUcnk5scNx",
        "colab": {
          "base_uri": "https://localhost:8080/"
        },
        "outputId": "665f499f-42bf-4ec8-f90d-ced1616d9f03"
      },
      "source": [
        "import torch\n",
        "import numpy as np\n",
        "import pandas as pd\n",
        "import torch.nn as nn\n",
        "import torch.nn.functional as F\n",
        "import torch.optim as optim\n",
        "import torchvision\n",
        "\n",
        "from torch.utils.data import TensorDataset\n",
        "\n",
        "use_gpu = torch.cuda.is_available()\n",
        "device = torch.device(\"cuda:0\" if use_gpu else \"cpu\")\n",
        "\n",
        "print(\"Torch version: \", torch.__version__)\n",
        "print(\"GPU Available: {}\".format(use_gpu))"
      ],
      "execution_count": 3,
      "outputs": [
        {
          "output_type": "stream",
          "text": [
            "Torch version:  1.8.1+cu101\n",
            "GPU Available: True\n"
          ],
          "name": "stdout"
        }
      ]
    },
    {
      "cell_type": "markdown",
      "metadata": {
        "id": "xc9wc4qq7qob"
      },
      "source": [
        "Fix the seed for the different libraries"
      ]
    },
    {
      "cell_type": "code",
      "metadata": {
        "id": "05jTJ12r7msf"
      },
      "source": [
        "seed = 4321\n",
        "np.random.seed(seed) # Set the random seed of numpy for the data split.\n",
        "torch.manual_seed(seed)\n",
        "torch.cuda.manual_seed(seed)"
      ],
      "execution_count": 4,
      "outputs": []
    },
    {
      "cell_type": "markdown",
      "metadata": {
        "id": "ZKzgFV9Favkt"
      },
      "source": [
        "# PyTorch in a nutshell"
      ]
    },
    {
      "cell_type": "markdown",
      "metadata": {
        "id": "Vrus_-F0avkt"
      },
      "source": [
        "*PyTorch* is a Python library that supports a vibrant ecosystem of tools and libraries for machine learning (ML) in vision, NLP, and more. It provides two high-level features:\n",
        "<ul>\n",
        "<li> operations on <a href=\"https://pytorch.org/tutorials/beginner/blitz/tensor_tutorial.html#sphx-glr-beginner-blitz-tensor-tutorial-py\">tensors</a> (such as NumPy) with GPU support,</li>\n",
        "<li> operations for creating and optimizing computational graphs with an automatic differentiation system called <a href=\"https://pytorch.org/tutorials/beginner/blitz/autograd_tutorial.html#sphx-glr-beginner-blitz-autograd-tutorial-py\">Autograd</a>.</li>\n",
        "</ul>\n",
        "\n",
        "<a href=\"https://pytorch.org/docs/stable/torch.html\">PyTorch docs</a> contain the API documentation and <a href=\"https://pytorch.org/tutorials/\">many tutorials</a>.\n",
        "Also, PyTorch offers several data processing utilities. One of these utilities is the class <a href=\"http://pytorch.org/docs/master/data.html#\"> `torch.utils.data.Dataset`</a> which offers an easy to use interface to handle a data set. For more information, please refer to the following urls: \n",
        "<ul>\n",
        "<li>PyTorch data sets: <a href=\"http://pytorch.org/docs/master/data.html\"> PyTorch - datasets</a>.</li>\n",
        "<li>A tutorial for loading data: <a href=\"http://pytorch.org/tutorials/beginner/data_loading_tutorial.html\"> PyTorch - data loading tutorial</a>.</li>\n",
        "</ul>\n",
        "\n",
        "<a href=\"http://pytorch.org/docs/master/cuda.html#module-torch.cuda\">`torch.cuda`</a> is a package that provides the same functions as CPU tensors but for  CUDA tensors, which are used for GPU computing. <a href=\"http://pytorch.org/docs/master/cuda.html#torch.cuda.is_available\">`torch.cuda.is_available()`</a> returns a boolean indicating if CUDA is currently available. Finally, we recommend using a `device` variable that identifies the device that will perform computations. We can assign a tensor to a device with the method `.to(device)`. By default, the tensors are CPU tensors."
      ]
    },
    {
      "cell_type": "markdown",
      "metadata": {
        "id": "Qm122vNmq92L"
      },
      "source": [
        "# Ingredients for a proof of concept (POC)"
      ]
    },
    {
      "cell_type": "markdown",
      "metadata": {
        "id": "nqvhR0ebavmE"
      },
      "source": [
        "To realize a ML POC, you need:\n",
        "<ul>\n",
        "<li>a task description as well as data to support it,</li>\n",
        "<li>evaluation metrics to assess the performance of models,</li>\n",
        "<li>a model description,</li>\n",
        "<li>a loss function to minimize,</li>\n",
        "<li>an optimizer that adjusts the parameters of the model.</li>\n",
        "</ul>"
      ]
    },
    {
      "cell_type": "markdown",
      "metadata": {
        "id": "Y8_pfpu2f6AO"
      },
      "source": [
        "# How to prepare the dataset?"
      ]
    },
    {
      "cell_type": "markdown",
      "metadata": {
        "id": "B5piZxYUhSzq"
      },
      "source": [
        "In this tutorial, we study the tragedy of the Titanic through a data-driven approach. Our task is to determine whether or not a passenger survived the Titanic sinking based on passenger data only. The results will show how the passengers' fate was pre-determined by the features selected in this study, without considering other factors."
      ]
    },
    {
      "cell_type": "markdown",
      "metadata": {
        "id": "y4GuYNDFavlU"
      },
      "source": [
        "## Titanic dataset"
      ]
    },
    {
      "cell_type": "markdown",
      "metadata": {
        "id": "NiOJx2ytavlU"
      },
      "source": [
        "First, we download the Titanic dataset from the following address:\n",
        "<br/>\n",
        "https://github.com/afansi/winterschool18/blob/master/titanic3.csv?raw=true.<br/>\n",
        "This dataset provides information on the fate of 1309 passengers of the first and only journey of the liner RMS Titanic, summarized by economic status (class), gender, age, family information, and survival. We use this dataset because we can train models very quickly for the purpose of this tutorial. The Kaggle platform also uses this dataset as an introduction to classical machine learning. <br/>\n",
        "\n",
        "Let's take a look at the features and some examples from this dataset. To do so, we use the library <a href=\"https://pandas.pydata.org/\">Pandas</a> to load the dataset into memory."
      ]
    },
    {
      "cell_type": "code",
      "metadata": {
        "id": "bX_RSiffavlW",
        "colab": {
          "base_uri": "https://localhost:8080/",
          "height": 198
        },
        "outputId": "a9abefef-14d0-4158-ce39-7fb6b3f371a6"
      },
      "source": [
        "titanic_df = pd.read_csv(\n",
        "    'https://github.com/afansi/winterschool18/blob/master/titanic3.csv?raw=true', \n",
        "    sep='\\t', \n",
        "    index_col=None, \n",
        "    na_values=['NA']\n",
        ")\n",
        "\n",
        "# a snapshot of the first 5 data points\n",
        "titanic_df.head()\n",
        "\n"
      ],
      "execution_count": 5,
      "outputs": [
        {
          "output_type": "execute_result",
          "data": {
            "text/html": [
              "<div>\n",
              "<style scoped>\n",
              "    .dataframe tbody tr th:only-of-type {\n",
              "        vertical-align: middle;\n",
              "    }\n",
              "\n",
              "    .dataframe tbody tr th {\n",
              "        vertical-align: top;\n",
              "    }\n",
              "\n",
              "    .dataframe thead th {\n",
              "        text-align: right;\n",
              "    }\n",
              "</style>\n",
              "<table border=\"1\" class=\"dataframe\">\n",
              "  <thead>\n",
              "    <tr style=\"text-align: right;\">\n",
              "      <th></th>\n",
              "      <th>pclass</th>\n",
              "      <th>survived</th>\n",
              "      <th>name</th>\n",
              "      <th>sex</th>\n",
              "      <th>age</th>\n",
              "      <th>sibsp</th>\n",
              "      <th>parch</th>\n",
              "      <th>ticket</th>\n",
              "      <th>fare</th>\n",
              "      <th>cabin</th>\n",
              "      <th>embarked</th>\n",
              "      <th>boat</th>\n",
              "      <th>body</th>\n",
              "      <th>home.dest</th>\n",
              "    </tr>\n",
              "  </thead>\n",
              "  <tbody>\n",
              "    <tr>\n",
              "      <th>0</th>\n",
              "      <td>1</td>\n",
              "      <td>1</td>\n",
              "      <td>Allen, Miss. Elisabeth Walton</td>\n",
              "      <td>female</td>\n",
              "      <td>29.0000</td>\n",
              "      <td>0</td>\n",
              "      <td>0</td>\n",
              "      <td>24160</td>\n",
              "      <td>211.3375</td>\n",
              "      <td>B5</td>\n",
              "      <td>S</td>\n",
              "      <td>2</td>\n",
              "      <td>NaN</td>\n",
              "      <td>St Louis, MO</td>\n",
              "    </tr>\n",
              "    <tr>\n",
              "      <th>1</th>\n",
              "      <td>1</td>\n",
              "      <td>1</td>\n",
              "      <td>Allison, Master. Hudson Trevor</td>\n",
              "      <td>male</td>\n",
              "      <td>0.9167</td>\n",
              "      <td>1</td>\n",
              "      <td>2</td>\n",
              "      <td>113781</td>\n",
              "      <td>151.5500</td>\n",
              "      <td>C22 C26</td>\n",
              "      <td>S</td>\n",
              "      <td>11</td>\n",
              "      <td>NaN</td>\n",
              "      <td>Montreal, PQ / Chesterville, ON</td>\n",
              "    </tr>\n",
              "    <tr>\n",
              "      <th>2</th>\n",
              "      <td>1</td>\n",
              "      <td>0</td>\n",
              "      <td>Allison, Miss. Helen Loraine</td>\n",
              "      <td>female</td>\n",
              "      <td>2.0000</td>\n",
              "      <td>1</td>\n",
              "      <td>2</td>\n",
              "      <td>113781</td>\n",
              "      <td>151.5500</td>\n",
              "      <td>C22 C26</td>\n",
              "      <td>S</td>\n",
              "      <td>NaN</td>\n",
              "      <td>NaN</td>\n",
              "      <td>Montreal, PQ / Chesterville, ON</td>\n",
              "    </tr>\n",
              "    <tr>\n",
              "      <th>3</th>\n",
              "      <td>1</td>\n",
              "      <td>0</td>\n",
              "      <td>Allison, Mr. Hudson Joshua Creighton</td>\n",
              "      <td>male</td>\n",
              "      <td>30.0000</td>\n",
              "      <td>1</td>\n",
              "      <td>2</td>\n",
              "      <td>113781</td>\n",
              "      <td>151.5500</td>\n",
              "      <td>C22 C26</td>\n",
              "      <td>S</td>\n",
              "      <td>NaN</td>\n",
              "      <td>135.0</td>\n",
              "      <td>Montreal, PQ / Chesterville, ON</td>\n",
              "    </tr>\n",
              "    <tr>\n",
              "      <th>4</th>\n",
              "      <td>1</td>\n",
              "      <td>0</td>\n",
              "      <td>Allison, Mrs. Hudson J C (Bessie Waldo Daniels)</td>\n",
              "      <td>female</td>\n",
              "      <td>25.0000</td>\n",
              "      <td>1</td>\n",
              "      <td>2</td>\n",
              "      <td>113781</td>\n",
              "      <td>151.5500</td>\n",
              "      <td>C22 C26</td>\n",
              "      <td>S</td>\n",
              "      <td>NaN</td>\n",
              "      <td>NaN</td>\n",
              "      <td>Montreal, PQ / Chesterville, ON</td>\n",
              "    </tr>\n",
              "  </tbody>\n",
              "</table>\n",
              "</div>"
            ],
            "text/plain": [
              "   pclass  survived  ...   body                        home.dest\n",
              "0       1         1  ...    NaN                     St Louis, MO\n",
              "1       1         1  ...    NaN  Montreal, PQ / Chesterville, ON\n",
              "2       1         0  ...    NaN  Montreal, PQ / Chesterville, ON\n",
              "3       1         0  ...  135.0  Montreal, PQ / Chesterville, ON\n",
              "4       1         0  ...    NaN  Montreal, PQ / Chesterville, ON\n",
              "\n",
              "[5 rows x 14 columns]"
            ]
          },
          "metadata": {
            "tags": []
          },
          "execution_count": 5
        }
      ]
    },
    {
      "cell_type": "markdown",
      "metadata": {
        "id": "yj88WmCmavlf"
      },
      "source": [
        "Here's the list of the features with their description:\n",
        "\n",
        "<ol>\n",
        "\n",
        "  <li> <b>pclass</b>: Passenger class (1 = first; 2 = second; 3 = third) </li>\n",
        "  <li> <b>survived</b>: Survived? (0 = no; 1 = yes) </li>\n",
        "  <li> <b>name</b>: Name </li>\n",
        "  <li> <b>sex</b>: Sex </li>\n",
        "  <li> <b>age</b>: Age </li>\n",
        "  <li> <b>sibsp</b>: Number of brothers, sisters, or spouses onboard </li>\n",
        "  <li> <b>parch</b>: Number of parents or children onboard </li>\n",
        "  <li> <b>ticket</b>: Ticket number </li>\n",
        "  <li> <b>fare</b>: Passenger fare </li>\n",
        "  <li> <b>cabin</b>: Cabin number </li>\n",
        "  <li> <b>embarked</b>: Port of embarkation (C = Cherbourg; Q = Queenstown; S = Southampton) </li>\n",
        "  <li> <b>boat</b>: Lifeboat (if the passenger survived, otherwise the value is Not a Number (NaN) </li>\n",
        "  <li> <b>body</b>: Body number (if the passenger did not survive and his body was found, otherwise the value is NaN) </li>\n",
        "  <li> <b>home.dest</b>: the passenger's destination </li>\n",
        " </ol>\n"
      ]
    },
    {
      "cell_type": "markdown",
      "metadata": {
        "id": "u2ed5fozqjce"
      },
      "source": [
        "## Data pre-processing"
      ]
    },
    {
      "cell_type": "markdown",
      "metadata": {
        "id": "__vcZhPnavlg"
      },
      "source": [
        "### Feature selection\n",
        "Some features are not relevant to the task, for example:\n",
        "<ol>\n",
        "  <li> <b>name</b>: Name </li>\n",
        "  <li> <b>ticket</b>: Ticket number </li>\n",
        "  <li> <b>cabin</b>: Cabin number </li>\n",
        "  <li> <b>home.dest</b>: Passenger's destination </li>\n",
        " </ol>\n",
        " \n",
        "Other features are directly related to the passenger survival and are not interesting for our study because they give away the label to be predicted:\n",
        "<ol>\n",
        "  <li> <b>boat</b>: Lifeboat (if the passenger survived) </li>\n",
        "  <li> <b>body</b>: Body number (if the passenger did not survive and his body was found) </li>\n",
        " </ol>"
      ]
    },
    {
      "cell_type": "code",
      "metadata": {
        "id": "uoD8x0dXofmj"
      },
      "source": [
        "titanic_df.drop(['name', 'ticket', 'cabin', 'home.dest', 'boat', 'body'], axis=1, inplace=True)"
      ],
      "execution_count": 6,
      "outputs": []
    },
    {
      "cell_type": "markdown",
      "metadata": {
        "id": "4PW_IWwqwdHq"
      },
      "source": [
        "### Handling missing values\n",
        "\n",
        "Handling missing values in datasets is difficult since examples with missing values can be informative for subgroups. Suppose that features associated with third-class tickets have many missing values compared to first-class tickets. Removing all examples with missing values will introduce a bias in the dataset and could completely change the correlations between features and the probability of survival. Another approach is to impute missing values by replacing them with simples statistics such as the mean or the median of the feature. Other imputing techniques use the other features to predict the missing values, which is very close to a ML task. See Scikit-learn reference for more details ([Imputation of missing values](https://www.google.com/url?q=https://scikit-learn.org/stable/modules/impute.html&sa=D&source=editors&ust=1617044175668000&usg=AFQjCNHxRm4BcLBrZEPzW7i3C_PJ7oAuPQ)). Thus, handling missing values should be done carefully and often depend on the dataset and domain knowledge. In the following, we discard all examples with missing values, but since it is a substantial number of examples, we are probably introducing a bias in the dataset. To avoid such bias, one can re-annotate the data manually."
      ]
    },
    {
      "cell_type": "code",
      "metadata": {
        "id": "X8YKDg69wjb_",
        "colab": {
          "base_uri": "https://localhost:8080/"
        },
        "outputId": "026765bd-dd70-46cf-d6ef-86e1508c4dfc"
      },
      "source": [
        "n_examples = len(titanic_df)\n",
        "titanic_df = titanic_df.dropna(axis=0, how='any').reset_index(drop=True)\n",
        "print(f'We removed {n_examples-len(titanic_df)} examples over {n_examples} containing missing values.')"
      ],
      "execution_count": 7,
      "outputs": [
        {
          "output_type": "stream",
          "text": [
            "We removed 266 examples over 1309 containing missing values.\n"
          ],
          "name": "stdout"
        }
      ]
    },
    {
      "cell_type": "markdown",
      "metadata": {
        "id": "4MckYm0M_xhR"
      },
      "source": [
        "### Feature encoding\n",
        " \n",
        "Some features are **categorical variables**, which means that they can take a finite number of values.\n",
        " <ol>\n",
        "  <li> <b>pclass</b>: Passenger Class </li>\n",
        "  <li> <b>sex</b>: Sex </li>\n",
        "  <li> <b>embarked</b>: Port of embarkation </li>\n",
        " </ol>\n",
        "\n",
        "To process categorical variables, we need to encode them in a way that does not imply an arbitrary order such as using natural numbers (e.g., 1, 2, 3). <a href=\"https://en.wikipedia.org/wiki/One-hot#Machine_learning_and_statistics\">One-hot encoding</a> is a way to achieve it. To use this encoding, we can simply call the function `get_dummies` in Pandas. The meaning of the encoded variables is as follows:\n",
        "\n",
        "<ol>\n",
        "  <li> <b>survived</b>: Survived? (0 = no; 1 = yes) </li>\n",
        "  <li> <b>pclass_1</b>: (1 if passenger in first class; 0 if not) </li>\n",
        "  <li> <b>pclass_2</b>: (1 if passenger in second class; 0 if not) </li>\n",
        "  <li> <b>pclass_3</b>: (1 if passenger in third class; 0 if not) </li>\n",
        "  <li> <b>sex_female</b>: (1 if passenger is female; 0 if not) </li>\n",
        "  <li> <b>sex_male</b>: (1 if passenger is male; 0 if not) </li>\n",
        "  <li> <b>age</b>: Age </li>\n",
        "  <li> <b>sibsp</b>: Number of brothers, sisters, or spouses onboard </li>\n",
        "  <li> <b>parch</b>: Number of parents or children onboard </li>\n",
        "  <li> <b>fare</b>: Passenger fare </li>\n",
        "  <li> <b>embarked_C</b>: (1 if Port of embarkation = Cherbourg (C); 0 otherwise) </li> \n",
        "  <li> <b>embarked_Q</b>: (1 if Port of embarkation = Queenstown (Q); 0 otherwise) </li> \n",
        "  <li> <b>embarked_S</b>: (1 if Port of embarkation = Southampton (S); 0 otherwise)</li> \n",
        " </ol>"
      ]
    },
    {
      "cell_type": "code",
      "metadata": {
        "id": "G7bFJc5X_qjx",
        "colab": {
          "base_uri": "https://localhost:8080/",
          "height": 198
        },
        "outputId": "b13151e6-968c-4534-ad04-3ce049f35d4a"
      },
      "source": [
        "titanic_preprocess_df = pd.get_dummies(data=titanic_df, columns=['pclass', 'sex', 'embarked'])\n",
        "titanic_preprocess_df.head()"
      ],
      "execution_count": 8,
      "outputs": [
        {
          "output_type": "execute_result",
          "data": {
            "text/html": [
              "<div>\n",
              "<style scoped>\n",
              "    .dataframe tbody tr th:only-of-type {\n",
              "        vertical-align: middle;\n",
              "    }\n",
              "\n",
              "    .dataframe tbody tr th {\n",
              "        vertical-align: top;\n",
              "    }\n",
              "\n",
              "    .dataframe thead th {\n",
              "        text-align: right;\n",
              "    }\n",
              "</style>\n",
              "<table border=\"1\" class=\"dataframe\">\n",
              "  <thead>\n",
              "    <tr style=\"text-align: right;\">\n",
              "      <th></th>\n",
              "      <th>survived</th>\n",
              "      <th>age</th>\n",
              "      <th>sibsp</th>\n",
              "      <th>parch</th>\n",
              "      <th>fare</th>\n",
              "      <th>pclass_1</th>\n",
              "      <th>pclass_2</th>\n",
              "      <th>pclass_3</th>\n",
              "      <th>sex_female</th>\n",
              "      <th>sex_male</th>\n",
              "      <th>embarked_C</th>\n",
              "      <th>embarked_Q</th>\n",
              "      <th>embarked_S</th>\n",
              "    </tr>\n",
              "  </thead>\n",
              "  <tbody>\n",
              "    <tr>\n",
              "      <th>0</th>\n",
              "      <td>1</td>\n",
              "      <td>29.0000</td>\n",
              "      <td>0</td>\n",
              "      <td>0</td>\n",
              "      <td>211.3375</td>\n",
              "      <td>1</td>\n",
              "      <td>0</td>\n",
              "      <td>0</td>\n",
              "      <td>1</td>\n",
              "      <td>0</td>\n",
              "      <td>0</td>\n",
              "      <td>0</td>\n",
              "      <td>1</td>\n",
              "    </tr>\n",
              "    <tr>\n",
              "      <th>1</th>\n",
              "      <td>1</td>\n",
              "      <td>0.9167</td>\n",
              "      <td>1</td>\n",
              "      <td>2</td>\n",
              "      <td>151.5500</td>\n",
              "      <td>1</td>\n",
              "      <td>0</td>\n",
              "      <td>0</td>\n",
              "      <td>0</td>\n",
              "      <td>1</td>\n",
              "      <td>0</td>\n",
              "      <td>0</td>\n",
              "      <td>1</td>\n",
              "    </tr>\n",
              "    <tr>\n",
              "      <th>2</th>\n",
              "      <td>0</td>\n",
              "      <td>2.0000</td>\n",
              "      <td>1</td>\n",
              "      <td>2</td>\n",
              "      <td>151.5500</td>\n",
              "      <td>1</td>\n",
              "      <td>0</td>\n",
              "      <td>0</td>\n",
              "      <td>1</td>\n",
              "      <td>0</td>\n",
              "      <td>0</td>\n",
              "      <td>0</td>\n",
              "      <td>1</td>\n",
              "    </tr>\n",
              "    <tr>\n",
              "      <th>3</th>\n",
              "      <td>0</td>\n",
              "      <td>30.0000</td>\n",
              "      <td>1</td>\n",
              "      <td>2</td>\n",
              "      <td>151.5500</td>\n",
              "      <td>1</td>\n",
              "      <td>0</td>\n",
              "      <td>0</td>\n",
              "      <td>0</td>\n",
              "      <td>1</td>\n",
              "      <td>0</td>\n",
              "      <td>0</td>\n",
              "      <td>1</td>\n",
              "    </tr>\n",
              "    <tr>\n",
              "      <th>4</th>\n",
              "      <td>0</td>\n",
              "      <td>25.0000</td>\n",
              "      <td>1</td>\n",
              "      <td>2</td>\n",
              "      <td>151.5500</td>\n",
              "      <td>1</td>\n",
              "      <td>0</td>\n",
              "      <td>0</td>\n",
              "      <td>1</td>\n",
              "      <td>0</td>\n",
              "      <td>0</td>\n",
              "      <td>0</td>\n",
              "      <td>1</td>\n",
              "    </tr>\n",
              "  </tbody>\n",
              "</table>\n",
              "</div>"
            ],
            "text/plain": [
              "   survived      age  sibsp  ...  embarked_C  embarked_Q  embarked_S\n",
              "0         1  29.0000      0  ...           0           0           1\n",
              "1         1   0.9167      1  ...           0           0           1\n",
              "2         0   2.0000      1  ...           0           0           1\n",
              "3         0  30.0000      1  ...           0           0           1\n",
              "4         0  25.0000      1  ...           0           0           1\n",
              "\n",
              "[5 rows x 13 columns]"
            ]
          },
          "metadata": {
            "tags": []
          },
          "execution_count": 8
        }
      ]
    },
    {
      "cell_type": "markdown",
      "metadata": {
        "id": "zeBNt5EW6tm9"
      },
      "source": [
        "Now, we can check if all examples have a one-hot encoding for their categorical variables."
      ]
    },
    {
      "cell_type": "code",
      "metadata": {
        "id": "4RjZZEokvJ3e",
        "colab": {
          "base_uri": "https://localhost:8080/",
          "height": 48
        },
        "outputId": "56729e8f-7571-4179-e141-f11c58f8c95a"
      },
      "source": [
        "titanic_preprocess_df.loc[titanic_preprocess_df[['sex_male','sex_female']].sum(axis=1) != 1]"
      ],
      "execution_count": 9,
      "outputs": [
        {
          "output_type": "execute_result",
          "data": {
            "text/html": [
              "<div>\n",
              "<style scoped>\n",
              "    .dataframe tbody tr th:only-of-type {\n",
              "        vertical-align: middle;\n",
              "    }\n",
              "\n",
              "    .dataframe tbody tr th {\n",
              "        vertical-align: top;\n",
              "    }\n",
              "\n",
              "    .dataframe thead th {\n",
              "        text-align: right;\n",
              "    }\n",
              "</style>\n",
              "<table border=\"1\" class=\"dataframe\">\n",
              "  <thead>\n",
              "    <tr style=\"text-align: right;\">\n",
              "      <th></th>\n",
              "      <th>survived</th>\n",
              "      <th>age</th>\n",
              "      <th>sibsp</th>\n",
              "      <th>parch</th>\n",
              "      <th>fare</th>\n",
              "      <th>pclass_1</th>\n",
              "      <th>pclass_2</th>\n",
              "      <th>pclass_3</th>\n",
              "      <th>sex_female</th>\n",
              "      <th>sex_male</th>\n",
              "      <th>embarked_C</th>\n",
              "      <th>embarked_Q</th>\n",
              "      <th>embarked_S</th>\n",
              "    </tr>\n",
              "  </thead>\n",
              "  <tbody>\n",
              "  </tbody>\n",
              "</table>\n",
              "</div>"
            ],
            "text/plain": [
              "Empty DataFrame\n",
              "Columns: [survived, age, sibsp, parch, fare, pclass_1, pclass_2, pclass_3, sex_female, sex_male, embarked_C, embarked_Q, embarked_S]\n",
              "Index: []"
            ]
          },
          "metadata": {
            "tags": []
          },
          "execution_count": 9
        }
      ]
    },
    {
      "cell_type": "code",
      "metadata": {
        "id": "Z3yueVPfvEhI",
        "colab": {
          "base_uri": "https://localhost:8080/",
          "height": 48
        },
        "outputId": "37bd2e0e-dcde-46e2-8562-0641351d2e42"
      },
      "source": [
        "titanic_preprocess_df.loc[titanic_preprocess_df[['pclass_1','pclass_2', 'pclass_3']].sum(axis=1) != 1]"
      ],
      "execution_count": 10,
      "outputs": [
        {
          "output_type": "execute_result",
          "data": {
            "text/html": [
              "<div>\n",
              "<style scoped>\n",
              "    .dataframe tbody tr th:only-of-type {\n",
              "        vertical-align: middle;\n",
              "    }\n",
              "\n",
              "    .dataframe tbody tr th {\n",
              "        vertical-align: top;\n",
              "    }\n",
              "\n",
              "    .dataframe thead th {\n",
              "        text-align: right;\n",
              "    }\n",
              "</style>\n",
              "<table border=\"1\" class=\"dataframe\">\n",
              "  <thead>\n",
              "    <tr style=\"text-align: right;\">\n",
              "      <th></th>\n",
              "      <th>survived</th>\n",
              "      <th>age</th>\n",
              "      <th>sibsp</th>\n",
              "      <th>parch</th>\n",
              "      <th>fare</th>\n",
              "      <th>pclass_1</th>\n",
              "      <th>pclass_2</th>\n",
              "      <th>pclass_3</th>\n",
              "      <th>sex_female</th>\n",
              "      <th>sex_male</th>\n",
              "      <th>embarked_C</th>\n",
              "      <th>embarked_Q</th>\n",
              "      <th>embarked_S</th>\n",
              "    </tr>\n",
              "  </thead>\n",
              "  <tbody>\n",
              "  </tbody>\n",
              "</table>\n",
              "</div>"
            ],
            "text/plain": [
              "Empty DataFrame\n",
              "Columns: [survived, age, sibsp, parch, fare, pclass_1, pclass_2, pclass_3, sex_female, sex_male, embarked_C, embarked_Q, embarked_S]\n",
              "Index: []"
            ]
          },
          "metadata": {
            "tags": []
          },
          "execution_count": 10
        }
      ]
    },
    {
      "cell_type": "code",
      "metadata": {
        "id": "r4No15nhu8Hi",
        "colab": {
          "base_uri": "https://localhost:8080/",
          "height": 48
        },
        "outputId": "adeaf240-e1ea-4192-dd84-7b426306b467"
      },
      "source": [
        "titanic_preprocess_df.loc[titanic_preprocess_df[['embarked_C','embarked_Q', 'embarked_S']].sum(axis=1) != 1]"
      ],
      "execution_count": 11,
      "outputs": [
        {
          "output_type": "execute_result",
          "data": {
            "text/html": [
              "<div>\n",
              "<style scoped>\n",
              "    .dataframe tbody tr th:only-of-type {\n",
              "        vertical-align: middle;\n",
              "    }\n",
              "\n",
              "    .dataframe tbody tr th {\n",
              "        vertical-align: top;\n",
              "    }\n",
              "\n",
              "    .dataframe thead th {\n",
              "        text-align: right;\n",
              "    }\n",
              "</style>\n",
              "<table border=\"1\" class=\"dataframe\">\n",
              "  <thead>\n",
              "    <tr style=\"text-align: right;\">\n",
              "      <th></th>\n",
              "      <th>survived</th>\n",
              "      <th>age</th>\n",
              "      <th>sibsp</th>\n",
              "      <th>parch</th>\n",
              "      <th>fare</th>\n",
              "      <th>pclass_1</th>\n",
              "      <th>pclass_2</th>\n",
              "      <th>pclass_3</th>\n",
              "      <th>sex_female</th>\n",
              "      <th>sex_male</th>\n",
              "      <th>embarked_C</th>\n",
              "      <th>embarked_Q</th>\n",
              "      <th>embarked_S</th>\n",
              "    </tr>\n",
              "  </thead>\n",
              "  <tbody>\n",
              "  </tbody>\n",
              "</table>\n",
              "</div>"
            ],
            "text/plain": [
              "Empty DataFrame\n",
              "Columns: [survived, age, sibsp, parch, fare, pclass_1, pclass_2, pclass_3, sex_female, sex_male, embarked_C, embarked_Q, embarked_S]\n",
              "Index: []"
            ]
          },
          "metadata": {
            "tags": []
          },
          "execution_count": 11
        }
      ]
    },
    {
      "cell_type": "markdown",
      "metadata": {
        "id": "n4a-35Xa66Tj"
      },
      "source": [
        "Since there are only two examples with no port of embarkation, we decide to discard them."
      ]
    },
    {
      "cell_type": "code",
      "metadata": {
        "id": "BkBNPNPDk9ZN"
      },
      "source": [
        "# Drop rows where there is no port of embarkation associated\n",
        "titanic_preprocess_df = titanic_preprocess_df.drop(index=148).reset_index(drop=True)\n",
        "titanic_preprocess_df = titanic_preprocess_df.drop(index=248).reset_index(drop=True)"
      ],
      "execution_count": 12,
      "outputs": []
    },
    {
      "cell_type": "code",
      "metadata": {
        "id": "l2p2GAKHm-92",
        "colab": {
          "base_uri": "https://localhost:8080/"
        },
        "outputId": "f72e952e-3ea4-44e3-947e-55565189a2f2"
      },
      "source": [
        "print(f'There are {len(titanic_preprocess_df)} remaining examples in the dataset.')"
      ],
      "execution_count": 13,
      "outputs": [
        {
          "output_type": "stream",
          "text": [
            "There are 1041 remaining examples in the dataset.\n"
          ],
          "name": "stdout"
        }
      ]
    },
    {
      "cell_type": "markdown",
      "metadata": {
        "id": "QJcs6PUTavlm"
      },
      "source": [
        "## Train / validation / test split"
      ]
    },
    {
      "cell_type": "markdown",
      "metadata": {
        "id": "Bjbgvffmavlo"
      },
      "source": [
        "At this point, we need to divide the dataset into three subsets:\n",
        "\n",
        "<ol>\n",
        "<li> <b> Train</b> (60% of the dataset): used to train the classification model. </li>   \n",
        "<li> <b> Validation</b> (20% of the dataset): used to evaluate hyper-parameters on held-out data. </li>   \n",
        "<li> <b> Test</b> (20% of the dataset): used to evaluate the generalization performance of the chosen model on held-out data. </li>\n",
        "</ol>\n",
        "\n",
        "We use the <a href=\"https://numpy.org/doc/stable/reference/generated/numpy.split.html\">numpy.split function</a> to separate our dataset into subsets."
      ]
    },
    {
      "cell_type": "markdown",
      "metadata": {
        "id": "cs07L8F5488f"
      },
      "source": [
        "### Exercise 1\n",
        "Complete the missing code to create the validation and the test sets"
      ]
    },
    {
      "cell_type": "code",
      "metadata": {
        "id": "GBmL8VBOavlo"
      },
      "source": [
        "train, validate, test = np.split(\n",
        "    titanic_preprocess_df.sample(frac=1, random_state=seed), \n",
        "    [int(.6*len(titanic_preprocess_df)), int(.8*len(titanic_preprocess_df))])\n",
        "\n",
        "# Remove the label column from X and create a label vectors.\n",
        "X_train = train.drop(['survived'], axis=1).to_numpy()\n",
        "y_train = train['survived'].to_numpy()\n",
        "\n",
        "X_val = validate.drop(['survived'], axis=1).to_numpy()\n",
        "y_val = validate['survived'].to_numpy()\n",
        "\n",
        "X_test = test.drop(['survived'], axis=1).to_numpy()\n",
        "y_test = test['survived'].to_numpy()\n"
      ],
      "execution_count": 15,
      "outputs": []
    },
    {
      "cell_type": "markdown",
      "metadata": {
        "id": "wv74TbIWavlr"
      },
      "source": [
        "## Datasets in PyTorch"
      ]
    },
    {
      "cell_type": "markdown",
      "metadata": {
        "id": "9_LJtG-Xavlt"
      },
      "source": [
        "We will use the subclass <b><a href=\"https://pytorch.org/docs/master/data.html#torch.utils.data.TensorDataset\"> `torch.utils.data.TensorDataset`</a> </b> to manipulate together the features and targets of a dataset."
      ]
    },
    {
      "cell_type": "markdown",
      "metadata": {
        "id": "CZUfbAtG5S92"
      },
      "source": [
        "### Exercise 2\n",
        "\n",
        "Complete the missing code to load the validation and the test sets in TensorDatasets."
      ]
    },
    {
      "cell_type": "code",
      "metadata": {
        "id": "1JtT4tV7avlt"
      },
      "source": [
        "train_dataset = TensorDataset(torch.from_numpy(X_train).float(), torch.from_numpy(y_train).long())\n",
        "val_dataset = TensorDataset(torch.from_numpy(X_val).float(), torch.from_numpy(y_val).long())\n",
        "test_dataset = TensorDataset(torch.from_numpy(X_test).float(), torch.from_numpy(y_test).long())\n"
      ],
      "execution_count": 16,
      "outputs": []
    },
    {
      "cell_type": "markdown",
      "metadata": {
        "id": "obEPHnlTavkc"
      },
      "source": [
        "# How to define the learning algorithm?"
      ]
    },
    {
      "cell_type": "markdown",
      "metadata": {
        "id": "qhN5GL6Gavks"
      },
      "source": [
        "To train a deep learning model, we need to define:\n",
        "* the network architecture by choosing the non-linear function and the number of hidden units per layer, \n",
        "* the loss function and optimizer.\n",
        "\n",
        "In this tutorial, we consider the multilayer perceptron (MLP). A MLP is a simple computational graph composed of \"hidden layers,\" which are defined by two modules: a **linear transformation** followed by a **non-linearity**. The result of a hidden layer is a vector called a **distributed representation** where each component is associated with a hidden unit.\n",
        "\n",
        "To solve our task, we will use a MLP with the following architecture:\n",
        "* the input dimension of the model is 12,\n",
        "* the output dimension of the model is 2,\n",
        "* the first dimension of the output is the probability of death and the second dimension is the probability of survival,\n",
        "* the number of hidden layers is 3, \n",
        "* the dimensions of the hidden layers are 20, 40, 20 respectively, \n",
        "* the activation function is a ReLu for all hidden layers."
      ]
    },
    {
      "cell_type": "markdown",
      "metadata": {
        "id": "701t0e-ravkr"
      },
      "source": [
        "## How to define a model in PyTorch?"
      ]
    },
    {
      "cell_type": "markdown",
      "metadata": {
        "id": "m4F5cyijavkv"
      },
      "source": [
        "The <a href=\"https://pytorch.org/docs/stable/nn.html\">PyTorch NN package</a> contains many useful classes for creating computation graphs.\n",
        "* The class <a href=\"https://pytorch.org/docs/master/generated/torch.nn.Module.html#torch.nn.Module\">torch.nn.Module</a>: \n",
        "any new module must inherit from this class or its descendants (subclasses).\n",
        "* The `forward` method:  any class defining a module must implement the `forward(...)` method, which defines the transformation of inputs to outputs.\n",
        "* The class <a href=\"https://pytorch.org/docs/master/generated/torch.nn.Linear.html#torch.nn.Linear\">`torch.nn.Linear(in_features, out_features)`</a>: this class implements a linear transformation. By default, it takes two parameters: \n",
        "    * `in_features`: the size of the data at the input of the module. \n",
        "    * `out_features`: the size of the data at the output of the module.\n",
        "\n",
        "* The module <a href=\"https://pytorch.org/docs/master/nn.functional.html#torch-nn-functional\">`torch.nn.functional`</a>: \n",
        "it defines a set of functions that can be applied directly to any tensor. As examples, we have:\n",
        "    * non-linear functions: `sigmoid(...)`, `tanh(...)`, `relu(...)`, ...\n",
        "    * loss functions: `mse_loss(...)`, `nll(...)`, `cross_entropy(...)`, ... \n",
        "    * regularization functions: `droupout(...)`, ..."
      ]
    },
    {
      "cell_type": "markdown",
      "metadata": {
        "id": "Tscha6S-KIBB"
      },
      "source": [
        "### Exercise 3\n",
        "\n",
        "Complete the following methods to define a neural network:\n",
        "* The `__init__` method that defines the layers.\n",
        "* The `forward(input)` method that returns the `output`."
      ]
    },
    {
      "cell_type": "code",
      "metadata": {
        "id": "xR5eBfIbavk0"
      },
      "source": [
        "class NeuralNet(nn.Module):\n",
        "    def __init__(self):\n",
        "      super(NeuralNet, self).__init__()\n",
        "      self.fc1 = nn.Linear(12, 20)\n",
        "      self.fc2 = nn.Linear(20,40)\n",
        "      self.fc3 = nn.Linear(40,20)\n",
        "      self.fc4 = nn.Linear(20,2)\n",
        "\n",
        "    def forward(self, x):      \n",
        "      x = F.relu(self.fc1(x))\n",
        "      x = F.relu(self.fc2(x))\n",
        "      x = F.relu(self.fc3(x))\n",
        "      out = self.fc4(x)\n",
        "      return out"
      ],
      "execution_count": 17,
      "outputs": []
    },
    {
      "cell_type": "markdown",
      "metadata": {
        "id": "OvLnHRZ5avk2"
      },
      "source": [
        "## Making predictions with a neural network"
      ]
    },
    {
      "cell_type": "markdown",
      "metadata": {
        "id": "uEXgJMDDavk3"
      },
      "source": [
        "Now, we are ready to test our neural network on randomly selected data.\n",
        "\n",
        "In PyTorch, a model has two different modes:\n",
        "    <ul>\n",
        "    <li> <b>train</b>: used during training, </li>\n",
        "    <li> <b>eval</b>: used during inference for model evaluation. </li>\n",
        "    </ul>\n",
        "\n",
        "The distinction is important since some modules behave differently according to this mode.\n",
        "We will use the <b>eval</b> mode in this section."
      ]
    },
    {
      "cell_type": "markdown",
      "metadata": {
        "id": "IqtE_hr650pz"
      },
      "source": [
        "### Exercise 4\n",
        "Complete the missing code so that the model outputs a probability vector. "
      ]
    },
    {
      "cell_type": "code",
      "metadata": {
        "id": "gzcABMezavk6",
        "colab": {
          "base_uri": "https://localhost:8080/"
        },
        "outputId": "7eb66009-7bcd-4331-fb68-b73506c6071f"
      },
      "source": [
        "# Model definition\n",
        "neural_net = NeuralNet()\n",
        "neural_net = neural_net.to(device)\n",
        "\n",
        "# Evaluation mode activation\n",
        "neural_net = neural_net.eval()\n",
        "\n",
        "# Select the first 5 data points\n",
        "data, target = val_dataset[0:5]\n",
        "data = data.to(device)\n",
        "target = target.to(device)\n",
        "\n",
        "# Forward propagation of the data through the model\n",
        "output = neural_net(data)   # equivalent to neural_net.forward(data)\n",
        "\n",
        "# Convert the logits into probabilities with softmax function\n",
        "output_proba = F.softmax(output, dim=1)\n",
        "\n",
        "# Printing the probability\n",
        "print(output_proba)"
      ],
      "execution_count": 19,
      "outputs": [
        {
          "output_type": "stream",
          "text": [
            "tensor([[0.5040, 0.4960],\n",
            "        [0.4895, 0.5105],\n",
            "        [0.4916, 0.5084],\n",
            "        [0.4984, 0.5016],\n",
            "        [0.4976, 0.5024]], device='cuda:0', grad_fn=<SoftmaxBackward>)\n"
          ],
          "name": "stdout"
        }
      ]
    },
    {
      "cell_type": "markdown",
      "metadata": {
        "id": "fVep0BElavlS"
      },
      "source": [
        "The rows define the output of the network, in terms of probabilities over two classes: <b>deceased</b> (first column) or <b>survived</b> (second column), for each of the five input data points. Let us take the label with maximum probability as the predicted label and compare it to the correct label."
      ]
    },
    {
      "cell_type": "code",
      "metadata": {
        "id": "_jV4No36qjdU",
        "colab": {
          "base_uri": "https://localhost:8080/"
        },
        "outputId": "ee30f9dd-e502-4090-d001-8b341f91624f"
      },
      "source": [
        "# Printing predictions (class with the highest probability)\n",
        "_, prediction = torch.max(output_proba, dim=1)\n",
        "\n",
        "print('Model prediction')\n",
        "print(prediction)\n",
        "\n",
        "# Printing the real labels\n",
        "print(\"Actual data\")\n",
        "print(target)"
      ],
      "execution_count": 20,
      "outputs": [
        {
          "output_type": "stream",
          "text": [
            "Model prediction\n",
            "tensor([0, 1, 1, 1, 1], device='cuda:0')\n",
            "Actual data\n",
            "tensor([0, 0, 0, 1, 1], device='cuda:0')\n"
          ],
          "name": "stdout"
        }
      ]
    },
    {
      "cell_type": "markdown",
      "metadata": {
        "id": "SEIIjqOuqjdc"
      },
      "source": [
        "### Exercise 5\n",
        "\n",
        "1.   What would be a good way to measure the model performances?\n",
        "2.   How does our model perform?\n",
        "3.   Considering that the model is not trained on the dataset, do you see any problem with your selected measure?\n"
      ]
    },
    {
      "cell_type": "markdown",
      "metadata": {
        "id": "0uySA2TCavmD"
      },
      "source": [
        "## Define the loss function and optimizer"
      ]
    },
    {
      "cell_type": "markdown",
      "metadata": {
        "id": "EkoobCLMavmE"
      },
      "source": [
        "### Loss function"
      ]
    },
    {
      "cell_type": "markdown",
      "metadata": {
        "id": "qkX7uSXQavmF"
      },
      "source": [
        "We define the loss function according to the task we want to achieve.\n",
        "\n",
        "PyTorch offers <a href=\"https://pytorch.org/docs/stable/nn.html#loss-functions\">many ready-to-use loss functions</a>.\n",
        "\n",
        "For classification problems, the usual loss function is <b>cross-entropy</b>, and this is the one we will use in this tutorial. In PyTorch, it is defined by the function <a href=\"https://pytorch.org/docs/master/nn.functional.html#cross-entropy\">`torch.nn.functional.cross_entropy`</a>.  Cross entropy allows comparing a $p$ distribution with a reference distribution $t$. It attains its minimum when $t=p$. Its formula for calculating it between the prediction and the target is: $-\\sum_j t_{ij} \\log(p_{ij})$ where $p$ is the prediction, $t$ the target, $i$ the example and $j$ the classe of the target."
      ]
    },
    {
      "cell_type": "code",
      "metadata": {
        "id": "FHnfYeS5avmF"
      },
      "source": [
        "def loss_function(prediction, target):\n",
        "    loss = F.cross_entropy(prediction, target)\n",
        "    return loss"
      ],
      "execution_count": 21,
      "outputs": []
    },
    {
      "cell_type": "markdown",
      "metadata": {
        "id": "Vsx_cv9Wqjdj"
      },
      "source": [
        "### Backpropagation"
      ]
    },
    {
      "cell_type": "markdown",
      "metadata": {
        "id": "0hcZaIKtavmH"
      },
      "source": [
        "In Pytorch, thanks to the automatic differentiation mechanism <a href=\"http://pytorch.org/docs/master/notes/autograd.html\">Autograd</a>, it is possible to automatically calculate the gradient of the loss function and backpropagate it through the computational graph.\n",
        "\n",
        "To do this, we only have to call the method `backward()` on the variable returned by the loss function, e.g., with\n",
        "\n",
        "```python\n",
        "loss = loss_function(....)\n",
        "loss.backward()\n",
        "```"
      ]
    },
    {
      "cell_type": "markdown",
      "metadata": {
        "id": "8YNo_ymYavmH"
      },
      "source": [
        "### Optimization"
      ]
    },
    {
      "cell_type": "markdown",
      "metadata": {
        "id": "Y4AlX9TwavmH"
      },
      "source": [
        "PyTorch provides a <a href=\"http://pytorch.org/docs/master/optim.html#algorithms\">set of optimization methods (`torch.optim`)</a> commonly used by the deep learning community. These methods include the following: \n",
        "* <b>SGD</b> (Stochastic Gradient Descent) <a href=\"http://pytorch.org/docs/master/optim.html#torch.optim.SGD\">`torch.optim.SGD(net.parameters(), lr=learning_rate)`</a>\n",
        "* <b>Adam</b> (Adaptive Moment Estimation): a variant of the gradient descent method in which the learning rate is adjusted for each parameter by estimating the first and second moments of the gradients. This optimizer has demonstrated excellent performance compared to SGD on many benchmarks.\n",
        "\n",
        "To be able to use an optimizer in PyTorch, we must instantiate it by passing the following elements:\n",
        "* <b>The parameters of the model</b>: these are obtained using the method `parameters()` on the instantiated model.\n",
        "* <b>The learning rate (lr)</b>: this is the learning rate to be used to update parameters during the optimization process. \n",
        "* There may be other parameters specific to the chosen optimizer.\n",
        "\n",
        "PyTorch offers a simplified interface to interact with any optimizer:\n",
        "* `zero_grad()`: Allows to reinitialize the gradients to zero at the beginning of an optimization step.\n",
        "* `step()`: Allows to perform an optimization step after a gradient backpropagation step."
      ]
    },
    {
      "cell_type": "markdown",
      "metadata": {
        "id": "fZ-lKExqavmI"
      },
      "source": [
        "We will use Adam with a lr of 0.001."
      ]
    },
    {
      "cell_type": "code",
      "metadata": {
        "id": "WDMOziJTavmI"
      },
      "source": [
        "optimizer = optim.Adam(neural_net.parameters(), lr=0.001) "
      ],
      "execution_count": 22,
      "outputs": []
    },
    {
      "cell_type": "markdown",
      "metadata": {
        "id": "OnFOAfdGqjdr"
      },
      "source": [
        "# How to train and evaluate a model?\n",
        "First, we need some definitions:\n",
        "<ol>\n",
        "<li>\n",
        "<b>Epoch</b>: a complete pass over the entire training dataset.\n",
        "</li>\n",
        "<li>\n",
        "<b>Iteration</b>: an update of the model parameters. Many iterations can occur before the end of an epoch.\n",
        "</li>\n",
        "<li>\n",
        "<b>Mini-batch</b>: A subset of training data used to estimate the average of gradients. In other words, at each iteration, a mini-batch is used. \n",
        "</li>\n",
        "</ol>"
      ]
    },
    {
      "cell_type": "markdown",
      "metadata": {
        "id": "LLXjNiDTavmK"
      },
      "source": [
        "## Creating the mini-batches\n",
        "PyTorch offers a utility called <b><a href=\"http://pytorch.org/docs/master/data.html\"> `torch.utils.data.DataLoader`</a></b> to load any dataset and automatically split it into mini-batches. During training, the data presented to the network should appear in a different order from one epoch to another. We will prepare the `DataLoader` for our three datasets (training, validation, and test)."
      ]
    },
    {
      "cell_type": "code",
      "metadata": {
        "id": "RGoQZSdqavmM"
      },
      "source": [
        "train_batch_size = 32  # number of data in a training batch.\n",
        "eval_batch_size = 32   # number of data in an batch.\n",
        "\n",
        "\n",
        "train_loader = torch.utils.data.DataLoader(train_dataset, batch_size=train_batch_size, shuffle=True)\n",
        "\n",
        "val_loader   = torch.utils.data.DataLoader(val_dataset, batch_size=eval_batch_size, shuffle=False)\n",
        "test_loader  = torch.utils.data.DataLoader(test_dataset, batch_size=eval_batch_size, shuffle=False)"
      ],
      "execution_count": 23,
      "outputs": []
    },
    {
      "cell_type": "markdown",
      "metadata": {
        "id": "Ia3ai-GvavmP"
      },
      "source": [
        "## Simple training loop"
      ]
    },
    {
      "cell_type": "markdown",
      "metadata": {
        "id": "v9wNZrTnavmQ"
      },
      "source": [
        "Here we define our training procedure for an epoch."
      ]
    },
    {
      "cell_type": "code",
      "metadata": {
        "id": "ZyK9xCsZavmR"
      },
      "source": [
        "def train(epoch, model, train_loader, optimizer, device):\n",
        "    \n",
        "    # activate the training mode\n",
        "    model.train()\n",
        "    \n",
        "    torch.set_grad_enabled(True)\n",
        "    \n",
        "    total_loss = 0\n",
        "    correct = 0\n",
        "    \n",
        "    # iteration over the mini-batches\n",
        "    for batch_idx, (data, target) in enumerate(train_loader):\n",
        "        \n",
        "        # transfer the data on the chosen device\n",
        "        data, target = data.to(device), target.to(device)\n",
        "        \n",
        "        # reinitialize the gradients to zero\n",
        "        optimizer.zero_grad()\n",
        "        \n",
        "        # forward propagation on the data\n",
        "        prediction = model(data)\n",
        "        \n",
        "        # compute the loss function w.r.t. the targets\n",
        "        loss = loss_function(prediction, target)\n",
        "        \n",
        "        # execute the backpropagation\n",
        "        loss.backward()\n",
        "        \n",
        "        # execute an optimization step\n",
        "        optimizer.step()\n",
        "        \n",
        "        # accumulate the loss\n",
        "        total_loss += loss.item()*len(data)\n",
        "        \n",
        "        # compute the number of correct predictions\n",
        "        _, pred_classes = torch.max(prediction, dim=1)        \n",
        "        correct += pred_classes.eq(target.view_as(pred_classes)).sum().item()\n",
        "         \n",
        "        \n",
        "    # compute the average loss per epoch\n",
        "    mean_loss = total_loss/len(train_loader.dataset)\n",
        "    \n",
        "    # compute the accuracy\n",
        "    acc = correct / len(train_loader.dataset)\n",
        "        \n",
        "    print('Train Epoch: {}   Avg_Loss: {:.5f}   Acc: {}/{} ({:.3f}%)'.format(\n",
        "        epoch, mean_loss, correct, len(train_loader.dataset),\n",
        "        100. * acc))   \n",
        "    \n",
        "    # return the average loss and the accuracy\n",
        "    return mean_loss, acc"
      ],
      "execution_count": 24,
      "outputs": []
    },
    {
      "cell_type": "markdown",
      "metadata": {
        "id": "vGexbWaHavmU"
      },
      "source": [
        "## Evaluation procedure\n",
        "Here we define our model evaluation procedure.\n",
        "<br/>\n",
        "In addition to switching the model to **eval** mode, it is essential to disable the gradient calculation. \n",
        "<br/>\n",
        "To do this, PyTorch offers a set of context managers to <a href=\"https://pytorch.org/docs/0.4.0/torch.html#locally-disabling-gradient-computation\">locally disable/enable gradient calculation </a>:\n",
        "1. `torch.no_grad()`: disable gradient calculation.\n",
        "2. `torch.enable_grad()`: enable gradient calculation.\n",
        "3. `torch.set_grad_enabled(bool)`: enable/disable gradient calculation.\n",
        "\n"
      ]
    },
    {
      "cell_type": "code",
      "metadata": {
        "id": "8gQj9W5LavmU"
      },
      "source": [
        "def evaluate(model, eval_loader, device):\n",
        "    \n",
        "    # activate the evaluation mode\n",
        "    model.eval()\n",
        "    \n",
        "    total_loss = 0\n",
        "    correct = 0\n",
        "    \n",
        "    with torch.no_grad():\n",
        "    \n",
        "        # iterate over the batches\n",
        "        for batch_idx, (data, target) in enumerate(eval_loader):\n",
        "\n",
        "            # transfer the data on the chosen device\n",
        "            data, target = data.to(device), target.to(device)\n",
        "\n",
        "            # forward propagation on the data\n",
        "            prediction = model(data)\n",
        "\n",
        "            # compute the loss function w.r.t. the targets\n",
        "            loss = loss_function(prediction, target)           \n",
        "\n",
        "\n",
        "            # accumulate the loss\n",
        "            total_loss += loss.item()*len(data)\n",
        "\n",
        "            # compute the number of correct predictions en sortie)\n",
        "            _, pred_classes = torch.max(prediction, dim=1) \n",
        "            correct += pred_classes.eq(target.view_as(pred_classes)).sum().item()         \n",
        "          \n",
        "    \n",
        "    # compute the average loss per epoch\n",
        "    mean_loss = total_loss/len(eval_loader.dataset)\n",
        "    \n",
        "    # compute the accuracy\n",
        "    acc = correct / len(eval_loader.dataset)\n",
        "        \n",
        "    print('Eval:  Avg_Loss: {:.5f}   Acc: {}/{} ({:.3f}%)'.format(\n",
        "        mean_loss, correct, len(eval_loader.dataset),\n",
        "        100. * acc)) \n",
        "    \n",
        "    # return the average loss and the accuracy\n",
        "    return mean_loss, acc"
      ],
      "execution_count": 25,
      "outputs": []
    },
    {
      "cell_type": "markdown",
      "metadata": {
        "id": "lQLklQXAavmW"
      },
      "source": [
        "## Checkpointing\n",
        "\n",
        "During training, we recommend saving the model parameters periodically. By doing so, we avoid having to retrain the model from scratch if the experiment goes wrong such as losing communication with GPU, out-of-memory error, numerical errors, incorrect learning rates making the experiment unstable, etc. This practice is commonly referred to as <b>checkpointing</b>.\n",
        "\n",
        "PyTorch offers <a href=\"http://pytorch.org/docs/master/notes/serialization.html\">a simple mechanism</a> to perform this operation.\n",
        "\n",
        "We implement two methods here:\n",
        "<ul>\n",
        "<li> the first one for <b> saving </b> a model,</li>\n",
        "<li> the second for <b> loading </b> a model checkpoint. </li>\n",
        "</ul>"
      ]
    },
    {
      "cell_type": "code",
      "metadata": {
        "id": "dMmNpma2avmX"
      },
      "source": [
        "def save_model(epoch, model, path='./'):\n",
        "    \n",
        "    # creating the file name indexed by the epoch value\n",
        "    filename = path + 'neural_network_{}.pt'.format(epoch)\n",
        "    \n",
        "    # saving the model parameters\n",
        "    torch.save(model.state_dict(), filename)\n",
        "    \n",
        "    return model\n",
        "    "
      ],
      "execution_count": 26,
      "outputs": []
    },
    {
      "cell_type": "code",
      "metadata": {
        "id": "2ZptgqQRavmZ"
      },
      "source": [
        "def load_model(epoch, model, path='./'):\n",
        "    \n",
        "    # creating the file name indexed by the epoch value\n",
        "    filename = path + 'neural_network_{}.pt'.format(epoch)\n",
        "    \n",
        "    # loading the parameters of the saved model\n",
        "    model.load_state_dict(torch.load(filename))\n",
        "    \n",
        "    return model"
      ],
      "execution_count": 27,
      "outputs": []
    },
    {
      "cell_type": "markdown",
      "metadata": {
        "id": "ve8sOocWavma"
      },
      "source": [
        "It is also possible to save the optimizer's status in PyTorch, which is very important when we want to resume training the model from a given backup. For more information, please consult <a href='https://discuss.pytorch.org/t/saving-and-loading-a-model-in-pytorch/2610/3'>the following URL</a>."
      ]
    },
    {
      "cell_type": "markdown",
      "metadata": {
        "id": "8lcAP8-1avma"
      },
      "source": [
        "## Putting everything together"
      ]
    },
    {
      "cell_type": "code",
      "metadata": {
        "id": "keMpyePsavmb",
        "colab": {
          "base_uri": "https://localhost:8080/"
        },
        "outputId": "5c5227c2-4754-461f-d565-cbc6322238da"
      },
      "source": [
        "# maximum number of epoch\n",
        "numEpochs = 200\n",
        "\n",
        "# Saving frequency\n",
        "checkpoint_freq = 10\n",
        "\n",
        "# Directory for data backup\n",
        "path = './'\n",
        "\n",
        "# Accumulators of average losses obtained per epoch\n",
        "train_losses = []\n",
        "val_losses = []\n",
        "\n",
        "# Performance accumulators per epoch\n",
        "train_accuracies = []\n",
        "val_accuracies = []\n",
        "\n",
        "# Model definition\n",
        "neural_net = NeuralNet()\n",
        "\n",
        "# Load the model on the chosen device\n",
        "neural_net = neural_net.to(device)\n",
        "\n",
        "# Optimizer definition\n",
        "optimizer = optim.Adam(neural_net.parameters(), lr=0.001) \n",
        "# optimizer = optim.SGD(neural_net.parameters(), lr=0.001) \n",
        "\n",
        "\n",
        "# Learning loop\n",
        "for epoch in range(1, numEpochs + 1):\n",
        "    \n",
        "    # train the model with the train dataset\n",
        "    train_loss, train_acc = train(epoch, neural_net, train_loader, optimizer, device)   \n",
        "    \n",
        "    # evaluate the model with the validation dataset\n",
        "    val_loss, val_acc = evaluate(neural_net, val_loader, device)       \n",
        "    \n",
        "    # Save the losses obtained\n",
        "    train_losses.append(train_loss)    \n",
        "    val_losses.append(val_loss)\n",
        "    \n",
        "    # Save the performances\n",
        "    train_accuracies.append(train_acc)    \n",
        "    val_accuracies.append(val_acc)\n",
        "    \n",
        "    # Checkpoint\n",
        "    if epoch % checkpoint_freq ==0:\n",
        "        save_model(epoch, neural_net, path)\n",
        "\n",
        "# Save the model at the end of the training\n",
        "save_model(numEpochs, neural_net, path)\n",
        "    \n",
        "print(\"\\n\\n\\nOptimization ended.\\n\")    \n"
      ],
      "execution_count": 28,
      "outputs": [
        {
          "output_type": "stream",
          "text": [
            "Train Epoch: 1   Avg_Loss: 0.67100   Acc: 349/624 (55.929%)\n",
            "Eval:  Avg_Loss: 0.61922   Acc: 142/208 (68.269%)\n",
            "Train Epoch: 2   Avg_Loss: 0.61028   Acc: 411/624 (65.865%)\n",
            "Eval:  Avg_Loss: 0.60400   Acc: 141/208 (67.788%)\n",
            "Train Epoch: 3   Avg_Loss: 0.60665   Acc: 416/624 (66.667%)\n",
            "Eval:  Avg_Loss: 0.60254   Acc: 141/208 (67.788%)\n",
            "Train Epoch: 4   Avg_Loss: 0.60308   Acc: 416/624 (66.667%)\n",
            "Eval:  Avg_Loss: 0.60104   Acc: 145/208 (69.712%)\n",
            "Train Epoch: 5   Avg_Loss: 0.60003   Acc: 418/624 (66.987%)\n",
            "Eval:  Avg_Loss: 0.59846   Acc: 149/208 (71.635%)\n",
            "Train Epoch: 6   Avg_Loss: 0.60062   Acc: 416/624 (66.667%)\n",
            "Eval:  Avg_Loss: 0.59818   Acc: 148/208 (71.154%)\n",
            "Train Epoch: 7   Avg_Loss: 0.59022   Acc: 425/624 (68.109%)\n",
            "Eval:  Avg_Loss: 0.58961   Acc: 143/208 (68.750%)\n",
            "Train Epoch: 8   Avg_Loss: 0.58925   Acc: 425/624 (68.109%)\n",
            "Eval:  Avg_Loss: 0.58492   Acc: 148/208 (71.154%)\n",
            "Train Epoch: 9   Avg_Loss: 0.58977   Acc: 435/624 (69.712%)\n",
            "Eval:  Avg_Loss: 0.57845   Acc: 155/208 (74.519%)\n",
            "Train Epoch: 10   Avg_Loss: 0.57406   Acc: 434/624 (69.551%)\n",
            "Eval:  Avg_Loss: 0.56722   Acc: 156/208 (75.000%)\n",
            "Train Epoch: 11   Avg_Loss: 0.56444   Acc: 446/624 (71.474%)\n",
            "Eval:  Avg_Loss: 0.57406   Acc: 144/208 (69.231%)\n",
            "Train Epoch: 12   Avg_Loss: 0.55654   Acc: 463/624 (74.199%)\n",
            "Eval:  Avg_Loss: 0.55675   Acc: 164/208 (78.846%)\n",
            "Train Epoch: 13   Avg_Loss: 0.54625   Acc: 462/624 (74.038%)\n",
            "Eval:  Avg_Loss: 0.54698   Acc: 160/208 (76.923%)\n",
            "Train Epoch: 14   Avg_Loss: 0.52703   Acc: 461/624 (73.878%)\n",
            "Eval:  Avg_Loss: 0.51462   Acc: 167/208 (80.288%)\n",
            "Train Epoch: 15   Avg_Loss: 0.52595   Acc: 467/624 (74.840%)\n",
            "Eval:  Avg_Loss: 0.51738   Acc: 166/208 (79.808%)\n",
            "Train Epoch: 16   Avg_Loss: 0.50589   Acc: 474/624 (75.962%)\n",
            "Eval:  Avg_Loss: 0.48104   Acc: 167/208 (80.288%)\n",
            "Train Epoch: 17   Avg_Loss: 0.49771   Acc: 477/624 (76.442%)\n",
            "Eval:  Avg_Loss: 0.47719   Acc: 168/208 (80.769%)\n",
            "Train Epoch: 18   Avg_Loss: 0.48281   Acc: 485/624 (77.724%)\n",
            "Eval:  Avg_Loss: 0.47964   Acc: 171/208 (82.212%)\n",
            "Train Epoch: 19   Avg_Loss: 0.48124   Acc: 493/624 (79.006%)\n",
            "Eval:  Avg_Loss: 0.46162   Acc: 169/208 (81.250%)\n",
            "Train Epoch: 20   Avg_Loss: 0.48309   Acc: 486/624 (77.885%)\n",
            "Eval:  Avg_Loss: 0.46444   Acc: 169/208 (81.250%)\n",
            "Train Epoch: 21   Avg_Loss: 0.47008   Acc: 490/624 (78.526%)\n",
            "Eval:  Avg_Loss: 0.45380   Acc: 168/208 (80.769%)\n",
            "Train Epoch: 22   Avg_Loss: 0.46531   Acc: 490/624 (78.526%)\n",
            "Eval:  Avg_Loss: 0.45405   Acc: 170/208 (81.731%)\n",
            "Train Epoch: 23   Avg_Loss: 0.47105   Acc: 482/624 (77.244%)\n",
            "Eval:  Avg_Loss: 0.44359   Acc: 170/208 (81.731%)\n",
            "Train Epoch: 24   Avg_Loss: 0.46275   Acc: 482/624 (77.244%)\n",
            "Eval:  Avg_Loss: 0.44902   Acc: 169/208 (81.250%)\n",
            "Train Epoch: 25   Avg_Loss: 0.46064   Acc: 493/624 (79.006%)\n",
            "Eval:  Avg_Loss: 0.43995   Acc: 168/208 (80.769%)\n",
            "Train Epoch: 26   Avg_Loss: 0.45989   Acc: 492/624 (78.846%)\n",
            "Eval:  Avg_Loss: 0.44062   Acc: 170/208 (81.731%)\n",
            "Train Epoch: 27   Avg_Loss: 0.45409   Acc: 486/624 (77.885%)\n",
            "Eval:  Avg_Loss: 0.44122   Acc: 170/208 (81.731%)\n",
            "Train Epoch: 28   Avg_Loss: 0.45204   Acc: 498/624 (79.808%)\n",
            "Eval:  Avg_Loss: 0.43822   Acc: 167/208 (80.288%)\n",
            "Train Epoch: 29   Avg_Loss: 0.46909   Acc: 485/624 (77.724%)\n",
            "Eval:  Avg_Loss: 0.44758   Acc: 166/208 (79.808%)\n",
            "Train Epoch: 30   Avg_Loss: 0.46128   Acc: 490/624 (78.526%)\n",
            "Eval:  Avg_Loss: 0.43360   Acc: 168/208 (80.769%)\n",
            "Train Epoch: 31   Avg_Loss: 0.44930   Acc: 500/624 (80.128%)\n",
            "Eval:  Avg_Loss: 0.43544   Acc: 168/208 (80.769%)\n",
            "Train Epoch: 32   Avg_Loss: 0.44998   Acc: 492/624 (78.846%)\n",
            "Eval:  Avg_Loss: 0.42739   Acc: 170/208 (81.731%)\n",
            "Train Epoch: 33   Avg_Loss: 0.44518   Acc: 498/624 (79.808%)\n",
            "Eval:  Avg_Loss: 0.43494   Acc: 168/208 (80.769%)\n",
            "Train Epoch: 34   Avg_Loss: 0.43867   Acc: 499/624 (79.968%)\n",
            "Eval:  Avg_Loss: 0.43042   Acc: 169/208 (81.250%)\n",
            "Train Epoch: 35   Avg_Loss: 0.44854   Acc: 493/624 (79.006%)\n",
            "Eval:  Avg_Loss: 0.42613   Acc: 172/208 (82.692%)\n",
            "Train Epoch: 36   Avg_Loss: 0.43673   Acc: 497/624 (79.647%)\n",
            "Eval:  Avg_Loss: 0.43334   Acc: 171/208 (82.212%)\n",
            "Train Epoch: 37   Avg_Loss: 0.43952   Acc: 501/624 (80.288%)\n",
            "Eval:  Avg_Loss: 0.41873   Acc: 171/208 (82.212%)\n",
            "Train Epoch: 38   Avg_Loss: 0.43759   Acc: 499/624 (79.968%)\n",
            "Eval:  Avg_Loss: 0.46061   Acc: 164/208 (78.846%)\n",
            "Train Epoch: 39   Avg_Loss: 0.48867   Acc: 490/624 (78.526%)\n",
            "Eval:  Avg_Loss: 0.42520   Acc: 170/208 (81.731%)\n",
            "Train Epoch: 40   Avg_Loss: 0.44299   Acc: 508/624 (81.410%)\n",
            "Eval:  Avg_Loss: 0.43148   Acc: 168/208 (80.769%)\n",
            "Train Epoch: 41   Avg_Loss: 0.44109   Acc: 506/624 (81.090%)\n",
            "Eval:  Avg_Loss: 0.43415   Acc: 168/208 (80.769%)\n",
            "Train Epoch: 42   Avg_Loss: 0.43311   Acc: 506/624 (81.090%)\n",
            "Eval:  Avg_Loss: 0.42417   Acc: 167/208 (80.288%)\n",
            "Train Epoch: 43   Avg_Loss: 0.43277   Acc: 504/624 (80.769%)\n",
            "Eval:  Avg_Loss: 0.41817   Acc: 171/208 (82.212%)\n",
            "Train Epoch: 44   Avg_Loss: 0.43597   Acc: 506/624 (81.090%)\n",
            "Eval:  Avg_Loss: 0.41679   Acc: 167/208 (80.288%)\n",
            "Train Epoch: 45   Avg_Loss: 0.43145   Acc: 500/624 (80.128%)\n",
            "Eval:  Avg_Loss: 0.41697   Acc: 168/208 (80.769%)\n",
            "Train Epoch: 46   Avg_Loss: 0.43523   Acc: 507/624 (81.250%)\n",
            "Eval:  Avg_Loss: 0.42156   Acc: 168/208 (80.769%)\n",
            "Train Epoch: 47   Avg_Loss: 0.44783   Acc: 490/624 (78.526%)\n",
            "Eval:  Avg_Loss: 0.42891   Acc: 171/208 (82.212%)\n",
            "Train Epoch: 48   Avg_Loss: 0.42500   Acc: 504/624 (80.769%)\n",
            "Eval:  Avg_Loss: 0.41495   Acc: 169/208 (81.250%)\n",
            "Train Epoch: 49   Avg_Loss: 0.42838   Acc: 510/624 (81.731%)\n",
            "Eval:  Avg_Loss: 0.41432   Acc: 169/208 (81.250%)\n",
            "Train Epoch: 50   Avg_Loss: 0.43104   Acc: 503/624 (80.609%)\n",
            "Eval:  Avg_Loss: 0.41551   Acc: 167/208 (80.288%)\n",
            "Train Epoch: 51   Avg_Loss: 0.42297   Acc: 503/624 (80.609%)\n",
            "Eval:  Avg_Loss: 0.41873   Acc: 168/208 (80.769%)\n",
            "Train Epoch: 52   Avg_Loss: 0.42274   Acc: 513/624 (82.212%)\n",
            "Eval:  Avg_Loss: 0.42962   Acc: 169/208 (81.250%)\n",
            "Train Epoch: 53   Avg_Loss: 0.44254   Acc: 499/624 (79.968%)\n",
            "Eval:  Avg_Loss: 0.41407   Acc: 170/208 (81.731%)\n",
            "Train Epoch: 54   Avg_Loss: 0.43368   Acc: 502/624 (80.449%)\n",
            "Eval:  Avg_Loss: 0.41732   Acc: 169/208 (81.250%)\n",
            "Train Epoch: 55   Avg_Loss: 0.42531   Acc: 504/624 (80.769%)\n",
            "Eval:  Avg_Loss: 0.41280   Acc: 170/208 (81.731%)\n",
            "Train Epoch: 56   Avg_Loss: 0.42140   Acc: 509/624 (81.571%)\n",
            "Eval:  Avg_Loss: 0.42194   Acc: 168/208 (80.769%)\n",
            "Train Epoch: 57   Avg_Loss: 0.42760   Acc: 505/624 (80.929%)\n",
            "Eval:  Avg_Loss: 0.43149   Acc: 171/208 (82.212%)\n",
            "Train Epoch: 58   Avg_Loss: 0.42088   Acc: 506/624 (81.090%)\n",
            "Eval:  Avg_Loss: 0.40896   Acc: 169/208 (81.250%)\n",
            "Train Epoch: 59   Avg_Loss: 0.41753   Acc: 514/624 (82.372%)\n",
            "Eval:  Avg_Loss: 0.41575   Acc: 170/208 (81.731%)\n",
            "Train Epoch: 60   Avg_Loss: 0.42000   Acc: 513/624 (82.212%)\n",
            "Eval:  Avg_Loss: 0.43937   Acc: 170/208 (81.731%)\n",
            "Train Epoch: 61   Avg_Loss: 0.43016   Acc: 508/624 (81.410%)\n",
            "Eval:  Avg_Loss: 0.43294   Acc: 171/208 (82.212%)\n",
            "Train Epoch: 62   Avg_Loss: 0.43345   Acc: 515/624 (82.532%)\n",
            "Eval:  Avg_Loss: 0.43108   Acc: 172/208 (82.692%)\n",
            "Train Epoch: 63   Avg_Loss: 0.43594   Acc: 496/624 (79.487%)\n",
            "Eval:  Avg_Loss: 0.41262   Acc: 172/208 (82.692%)\n",
            "Train Epoch: 64   Avg_Loss: 0.41239   Acc: 511/624 (81.891%)\n",
            "Eval:  Avg_Loss: 0.41566   Acc: 169/208 (81.250%)\n",
            "Train Epoch: 65   Avg_Loss: 0.43161   Acc: 505/624 (80.929%)\n",
            "Eval:  Avg_Loss: 0.41213   Acc: 170/208 (81.731%)\n",
            "Train Epoch: 66   Avg_Loss: 0.41911   Acc: 510/624 (81.731%)\n",
            "Eval:  Avg_Loss: 0.42138   Acc: 168/208 (80.769%)\n",
            "Train Epoch: 67   Avg_Loss: 0.40202   Acc: 515/624 (82.532%)\n",
            "Eval:  Avg_Loss: 0.42668   Acc: 170/208 (81.731%)\n",
            "Train Epoch: 68   Avg_Loss: 0.45516   Acc: 496/624 (79.487%)\n",
            "Eval:  Avg_Loss: 0.45402   Acc: 165/208 (79.327%)\n",
            "Train Epoch: 69   Avg_Loss: 0.43602   Acc: 500/624 (80.128%)\n",
            "Eval:  Avg_Loss: 0.41496   Acc: 171/208 (82.212%)\n",
            "Train Epoch: 70   Avg_Loss: 0.41056   Acc: 519/624 (83.173%)\n",
            "Eval:  Avg_Loss: 0.41428   Acc: 169/208 (81.250%)\n",
            "Train Epoch: 71   Avg_Loss: 0.40879   Acc: 514/624 (82.372%)\n",
            "Eval:  Avg_Loss: 0.41677   Acc: 168/208 (80.769%)\n",
            "Train Epoch: 72   Avg_Loss: 0.40556   Acc: 514/624 (82.372%)\n",
            "Eval:  Avg_Loss: 0.43430   Acc: 167/208 (80.288%)\n",
            "Train Epoch: 73   Avg_Loss: 0.40430   Acc: 503/624 (80.609%)\n",
            "Eval:  Avg_Loss: 0.41953   Acc: 171/208 (82.212%)\n",
            "Train Epoch: 74   Avg_Loss: 0.40661   Acc: 510/624 (81.731%)\n",
            "Eval:  Avg_Loss: 0.42413   Acc: 169/208 (81.250%)\n",
            "Train Epoch: 75   Avg_Loss: 0.42574   Acc: 500/624 (80.128%)\n",
            "Eval:  Avg_Loss: 0.42162   Acc: 169/208 (81.250%)\n",
            "Train Epoch: 76   Avg_Loss: 0.41153   Acc: 518/624 (83.013%)\n",
            "Eval:  Avg_Loss: 0.41988   Acc: 170/208 (81.731%)\n",
            "Train Epoch: 77   Avg_Loss: 0.40709   Acc: 510/624 (81.731%)\n",
            "Eval:  Avg_Loss: 0.41907   Acc: 167/208 (80.288%)\n",
            "Train Epoch: 78   Avg_Loss: 0.40277   Acc: 513/624 (82.212%)\n",
            "Eval:  Avg_Loss: 0.42257   Acc: 169/208 (81.250%)\n",
            "Train Epoch: 79   Avg_Loss: 0.39923   Acc: 510/624 (81.731%)\n",
            "Eval:  Avg_Loss: 0.42133   Acc: 167/208 (80.288%)\n",
            "Train Epoch: 80   Avg_Loss: 0.39826   Acc: 515/624 (82.532%)\n",
            "Eval:  Avg_Loss: 0.41851   Acc: 167/208 (80.288%)\n",
            "Train Epoch: 81   Avg_Loss: 0.39648   Acc: 520/624 (83.333%)\n",
            "Eval:  Avg_Loss: 0.42706   Acc: 165/208 (79.327%)\n",
            "Train Epoch: 82   Avg_Loss: 0.40197   Acc: 510/624 (81.731%)\n",
            "Eval:  Avg_Loss: 0.42109   Acc: 172/208 (82.692%)\n",
            "Train Epoch: 83   Avg_Loss: 0.40573   Acc: 512/624 (82.051%)\n",
            "Eval:  Avg_Loss: 0.41922   Acc: 169/208 (81.250%)\n",
            "Train Epoch: 84   Avg_Loss: 0.41774   Acc: 504/624 (80.769%)\n",
            "Eval:  Avg_Loss: 0.44297   Acc: 174/208 (83.654%)\n",
            "Train Epoch: 85   Avg_Loss: 0.40441   Acc: 503/624 (80.609%)\n",
            "Eval:  Avg_Loss: 0.42337   Acc: 165/208 (79.327%)\n",
            "Train Epoch: 86   Avg_Loss: 0.40934   Acc: 509/624 (81.571%)\n",
            "Eval:  Avg_Loss: 0.42121   Acc: 170/208 (81.731%)\n",
            "Train Epoch: 87   Avg_Loss: 0.39930   Acc: 515/624 (82.532%)\n",
            "Eval:  Avg_Loss: 0.41959   Acc: 170/208 (81.731%)\n",
            "Train Epoch: 88   Avg_Loss: 0.40997   Acc: 501/624 (80.288%)\n",
            "Eval:  Avg_Loss: 0.42403   Acc: 170/208 (81.731%)\n",
            "Train Epoch: 89   Avg_Loss: 0.41862   Acc: 513/624 (82.212%)\n",
            "Eval:  Avg_Loss: 0.42219   Acc: 170/208 (81.731%)\n",
            "Train Epoch: 90   Avg_Loss: 0.39893   Acc: 516/624 (82.692%)\n",
            "Eval:  Avg_Loss: 0.41938   Acc: 168/208 (80.769%)\n",
            "Train Epoch: 91   Avg_Loss: 0.40251   Acc: 513/624 (82.212%)\n",
            "Eval:  Avg_Loss: 0.42807   Acc: 172/208 (82.692%)\n",
            "Train Epoch: 92   Avg_Loss: 0.40104   Acc: 511/624 (81.891%)\n",
            "Eval:  Avg_Loss: 0.42424   Acc: 170/208 (81.731%)\n",
            "Train Epoch: 93   Avg_Loss: 0.40271   Acc: 515/624 (82.532%)\n",
            "Eval:  Avg_Loss: 0.45806   Acc: 173/208 (83.173%)\n",
            "Train Epoch: 94   Avg_Loss: 0.40159   Acc: 506/624 (81.090%)\n",
            "Eval:  Avg_Loss: 0.42588   Acc: 170/208 (81.731%)\n",
            "Train Epoch: 95   Avg_Loss: 0.39784   Acc: 512/624 (82.051%)\n",
            "Eval:  Avg_Loss: 0.42586   Acc: 167/208 (80.288%)\n",
            "Train Epoch: 96   Avg_Loss: 0.39226   Acc: 516/624 (82.692%)\n",
            "Eval:  Avg_Loss: 0.43979   Acc: 169/208 (81.250%)\n",
            "Train Epoch: 97   Avg_Loss: 0.39102   Acc: 521/624 (83.494%)\n",
            "Eval:  Avg_Loss: 0.42577   Acc: 167/208 (80.288%)\n",
            "Train Epoch: 98   Avg_Loss: 0.39592   Acc: 509/624 (81.571%)\n",
            "Eval:  Avg_Loss: 0.42799   Acc: 167/208 (80.288%)\n",
            "Train Epoch: 99   Avg_Loss: 0.39348   Acc: 511/624 (81.891%)\n",
            "Eval:  Avg_Loss: 0.42998   Acc: 169/208 (81.250%)\n",
            "Train Epoch: 100   Avg_Loss: 0.39628   Acc: 507/624 (81.250%)\n",
            "Eval:  Avg_Loss: 0.43017   Acc: 169/208 (81.250%)\n",
            "Train Epoch: 101   Avg_Loss: 0.39477   Acc: 512/624 (82.051%)\n",
            "Eval:  Avg_Loss: 0.43289   Acc: 171/208 (82.212%)\n",
            "Train Epoch: 102   Avg_Loss: 0.39156   Acc: 514/624 (82.372%)\n",
            "Eval:  Avg_Loss: 0.43018   Acc: 171/208 (82.212%)\n",
            "Train Epoch: 103   Avg_Loss: 0.38617   Acc: 516/624 (82.692%)\n",
            "Eval:  Avg_Loss: 0.42931   Acc: 164/208 (78.846%)\n",
            "Train Epoch: 104   Avg_Loss: 0.40376   Acc: 517/624 (82.853%)\n",
            "Eval:  Avg_Loss: 0.43406   Acc: 170/208 (81.731%)\n",
            "Train Epoch: 105   Avg_Loss: 0.40183   Acc: 511/624 (81.891%)\n",
            "Eval:  Avg_Loss: 0.48747   Acc: 172/208 (82.692%)\n",
            "Train Epoch: 106   Avg_Loss: 0.41871   Acc: 504/624 (80.769%)\n",
            "Eval:  Avg_Loss: 0.42986   Acc: 173/208 (83.173%)\n",
            "Train Epoch: 107   Avg_Loss: 0.39353   Acc: 511/624 (81.891%)\n",
            "Eval:  Avg_Loss: 0.43124   Acc: 165/208 (79.327%)\n",
            "Train Epoch: 108   Avg_Loss: 0.39195   Acc: 514/624 (82.372%)\n",
            "Eval:  Avg_Loss: 0.43519   Acc: 166/208 (79.808%)\n",
            "Train Epoch: 109   Avg_Loss: 0.39806   Acc: 507/624 (81.250%)\n",
            "Eval:  Avg_Loss: 0.44432   Acc: 171/208 (82.212%)\n",
            "Train Epoch: 110   Avg_Loss: 0.39621   Acc: 506/624 (81.090%)\n",
            "Eval:  Avg_Loss: 0.45628   Acc: 172/208 (82.692%)\n",
            "Train Epoch: 111   Avg_Loss: 0.42348   Acc: 495/624 (79.327%)\n",
            "Eval:  Avg_Loss: 0.46370   Acc: 174/208 (83.654%)\n",
            "Train Epoch: 112   Avg_Loss: 0.41342   Acc: 506/624 (81.090%)\n",
            "Eval:  Avg_Loss: 0.44689   Acc: 166/208 (79.808%)\n",
            "Train Epoch: 113   Avg_Loss: 0.39248   Acc: 517/624 (82.853%)\n",
            "Eval:  Avg_Loss: 0.43111   Acc: 169/208 (81.250%)\n",
            "Train Epoch: 114   Avg_Loss: 0.39509   Acc: 516/624 (82.692%)\n",
            "Eval:  Avg_Loss: 0.45332   Acc: 172/208 (82.692%)\n",
            "Train Epoch: 115   Avg_Loss: 0.38750   Acc: 519/624 (83.173%)\n",
            "Eval:  Avg_Loss: 0.42794   Acc: 169/208 (81.250%)\n",
            "Train Epoch: 116   Avg_Loss: 0.39011   Acc: 514/624 (82.372%)\n",
            "Eval:  Avg_Loss: 0.43298   Acc: 169/208 (81.250%)\n",
            "Train Epoch: 117   Avg_Loss: 0.38979   Acc: 518/624 (83.013%)\n",
            "Eval:  Avg_Loss: 0.43568   Acc: 169/208 (81.250%)\n",
            "Train Epoch: 118   Avg_Loss: 0.40515   Acc: 506/624 (81.090%)\n",
            "Eval:  Avg_Loss: 0.46008   Acc: 170/208 (81.731%)\n",
            "Train Epoch: 119   Avg_Loss: 0.40245   Acc: 511/624 (81.891%)\n",
            "Eval:  Avg_Loss: 0.44187   Acc: 166/208 (79.808%)\n",
            "Train Epoch: 120   Avg_Loss: 0.39141   Acc: 513/624 (82.212%)\n",
            "Eval:  Avg_Loss: 0.44603   Acc: 170/208 (81.731%)\n",
            "Train Epoch: 121   Avg_Loss: 0.38544   Acc: 524/624 (83.974%)\n",
            "Eval:  Avg_Loss: 0.43662   Acc: 167/208 (80.288%)\n",
            "Train Epoch: 122   Avg_Loss: 0.38334   Acc: 518/624 (83.013%)\n",
            "Eval:  Avg_Loss: 0.43682   Acc: 169/208 (81.250%)\n",
            "Train Epoch: 123   Avg_Loss: 0.39088   Acc: 513/624 (82.212%)\n",
            "Eval:  Avg_Loss: 0.44280   Acc: 170/208 (81.731%)\n",
            "Train Epoch: 124   Avg_Loss: 0.38228   Acc: 513/624 (82.212%)\n",
            "Eval:  Avg_Loss: 0.45695   Acc: 172/208 (82.692%)\n",
            "Train Epoch: 125   Avg_Loss: 0.39045   Acc: 509/624 (81.571%)\n",
            "Eval:  Avg_Loss: 0.45106   Acc: 172/208 (82.692%)\n",
            "Train Epoch: 126   Avg_Loss: 0.38293   Acc: 521/624 (83.494%)\n",
            "Eval:  Avg_Loss: 0.44852   Acc: 171/208 (82.212%)\n",
            "Train Epoch: 127   Avg_Loss: 0.38604   Acc: 510/624 (81.731%)\n",
            "Eval:  Avg_Loss: 0.45412   Acc: 172/208 (82.692%)\n",
            "Train Epoch: 128   Avg_Loss: 0.37834   Acc: 513/624 (82.212%)\n",
            "Eval:  Avg_Loss: 0.44151   Acc: 166/208 (79.808%)\n",
            "Train Epoch: 129   Avg_Loss: 0.37791   Acc: 521/624 (83.494%)\n",
            "Eval:  Avg_Loss: 0.46354   Acc: 171/208 (82.212%)\n",
            "Train Epoch: 130   Avg_Loss: 0.38888   Acc: 515/624 (82.532%)\n",
            "Eval:  Avg_Loss: 0.45317   Acc: 172/208 (82.692%)\n",
            "Train Epoch: 131   Avg_Loss: 0.42211   Acc: 500/624 (80.128%)\n",
            "Eval:  Avg_Loss: 0.46340   Acc: 170/208 (81.731%)\n",
            "Train Epoch: 132   Avg_Loss: 0.40875   Acc: 505/624 (80.929%)\n",
            "Eval:  Avg_Loss: 0.45668   Acc: 168/208 (80.769%)\n",
            "Train Epoch: 133   Avg_Loss: 0.38925   Acc: 511/624 (81.891%)\n",
            "Eval:  Avg_Loss: 0.44739   Acc: 166/208 (79.808%)\n",
            "Train Epoch: 134   Avg_Loss: 0.39870   Acc: 515/624 (82.532%)\n",
            "Eval:  Avg_Loss: 0.44448   Acc: 166/208 (79.808%)\n",
            "Train Epoch: 135   Avg_Loss: 0.39722   Acc: 509/624 (81.571%)\n",
            "Eval:  Avg_Loss: 0.45910   Acc: 163/208 (78.365%)\n",
            "Train Epoch: 136   Avg_Loss: 0.39208   Acc: 508/624 (81.410%)\n",
            "Eval:  Avg_Loss: 0.45023   Acc: 164/208 (78.846%)\n",
            "Train Epoch: 137   Avg_Loss: 0.38670   Acc: 515/624 (82.532%)\n",
            "Eval:  Avg_Loss: 0.44625   Acc: 166/208 (79.808%)\n",
            "Train Epoch: 138   Avg_Loss: 0.37665   Acc: 520/624 (83.333%)\n",
            "Eval:  Avg_Loss: 0.45294   Acc: 168/208 (80.769%)\n",
            "Train Epoch: 139   Avg_Loss: 0.38311   Acc: 517/624 (82.853%)\n",
            "Eval:  Avg_Loss: 0.46858   Acc: 172/208 (82.692%)\n",
            "Train Epoch: 140   Avg_Loss: 0.37939   Acc: 515/624 (82.532%)\n",
            "Eval:  Avg_Loss: 0.45524   Acc: 165/208 (79.327%)\n",
            "Train Epoch: 141   Avg_Loss: 0.38032   Acc: 516/624 (82.692%)\n",
            "Eval:  Avg_Loss: 0.44825   Acc: 167/208 (80.288%)\n",
            "Train Epoch: 142   Avg_Loss: 0.37459   Acc: 520/624 (83.333%)\n",
            "Eval:  Avg_Loss: 0.46099   Acc: 171/208 (82.212%)\n",
            "Train Epoch: 143   Avg_Loss: 0.38441   Acc: 519/624 (83.173%)\n",
            "Eval:  Avg_Loss: 0.45643   Acc: 169/208 (81.250%)\n",
            "Train Epoch: 144   Avg_Loss: 0.38311   Acc: 517/624 (82.853%)\n",
            "Eval:  Avg_Loss: 0.45952   Acc: 164/208 (78.846%)\n",
            "Train Epoch: 145   Avg_Loss: 0.39194   Acc: 512/624 (82.051%)\n",
            "Eval:  Avg_Loss: 0.46099   Acc: 161/208 (77.404%)\n",
            "Train Epoch: 146   Avg_Loss: 0.39679   Acc: 516/624 (82.692%)\n",
            "Eval:  Avg_Loss: 0.46312   Acc: 163/208 (78.365%)\n",
            "Train Epoch: 147   Avg_Loss: 0.40062   Acc: 509/624 (81.571%)\n",
            "Eval:  Avg_Loss: 0.45654   Acc: 163/208 (78.365%)\n",
            "Train Epoch: 148   Avg_Loss: 0.38289   Acc: 513/624 (82.212%)\n",
            "Eval:  Avg_Loss: 0.44707   Acc: 169/208 (81.250%)\n",
            "Train Epoch: 149   Avg_Loss: 0.38119   Acc: 514/624 (82.372%)\n",
            "Eval:  Avg_Loss: 0.46210   Acc: 164/208 (78.846%)\n",
            "Train Epoch: 150   Avg_Loss: 0.39286   Acc: 517/624 (82.853%)\n",
            "Eval:  Avg_Loss: 0.45367   Acc: 170/208 (81.731%)\n",
            "Train Epoch: 151   Avg_Loss: 0.37940   Acc: 525/624 (84.135%)\n",
            "Eval:  Avg_Loss: 0.48287   Acc: 169/208 (81.250%)\n",
            "Train Epoch: 152   Avg_Loss: 0.38283   Acc: 515/624 (82.532%)\n",
            "Eval:  Avg_Loss: 0.46412   Acc: 167/208 (80.288%)\n",
            "Train Epoch: 153   Avg_Loss: 0.37875   Acc: 518/624 (83.013%)\n",
            "Eval:  Avg_Loss: 0.46370   Acc: 170/208 (81.731%)\n",
            "Train Epoch: 154   Avg_Loss: 0.37794   Acc: 520/624 (83.333%)\n",
            "Eval:  Avg_Loss: 0.46878   Acc: 165/208 (79.327%)\n",
            "Train Epoch: 155   Avg_Loss: 0.37512   Acc: 522/624 (83.654%)\n",
            "Eval:  Avg_Loss: 0.46502   Acc: 169/208 (81.250%)\n",
            "Train Epoch: 156   Avg_Loss: 0.37697   Acc: 523/624 (83.814%)\n",
            "Eval:  Avg_Loss: 0.47065   Acc: 161/208 (77.404%)\n",
            "Train Epoch: 157   Avg_Loss: 0.38350   Acc: 523/624 (83.814%)\n",
            "Eval:  Avg_Loss: 0.46151   Acc: 166/208 (79.808%)\n",
            "Train Epoch: 158   Avg_Loss: 0.37976   Acc: 514/624 (82.372%)\n",
            "Eval:  Avg_Loss: 0.46227   Acc: 166/208 (79.808%)\n",
            "Train Epoch: 159   Avg_Loss: 0.37178   Acc: 515/624 (82.532%)\n",
            "Eval:  Avg_Loss: 0.46726   Acc: 164/208 (78.846%)\n",
            "Train Epoch: 160   Avg_Loss: 0.37940   Acc: 517/624 (82.853%)\n",
            "Eval:  Avg_Loss: 0.46794   Acc: 165/208 (79.327%)\n",
            "Train Epoch: 161   Avg_Loss: 0.38379   Acc: 516/624 (82.692%)\n",
            "Eval:  Avg_Loss: 0.46887   Acc: 171/208 (82.212%)\n",
            "Train Epoch: 162   Avg_Loss: 0.37639   Acc: 518/624 (83.013%)\n",
            "Eval:  Avg_Loss: 0.46769   Acc: 166/208 (79.808%)\n",
            "Train Epoch: 163   Avg_Loss: 0.36757   Acc: 520/624 (83.333%)\n",
            "Eval:  Avg_Loss: 0.46606   Acc: 163/208 (78.365%)\n",
            "Train Epoch: 164   Avg_Loss: 0.38170   Acc: 520/624 (83.333%)\n",
            "Eval:  Avg_Loss: 0.46725   Acc: 162/208 (77.885%)\n",
            "Train Epoch: 165   Avg_Loss: 0.38020   Acc: 519/624 (83.173%)\n",
            "Eval:  Avg_Loss: 0.47031   Acc: 166/208 (79.808%)\n",
            "Train Epoch: 166   Avg_Loss: 0.37736   Acc: 513/624 (82.212%)\n",
            "Eval:  Avg_Loss: 0.47463   Acc: 164/208 (78.846%)\n",
            "Train Epoch: 167   Avg_Loss: 0.37261   Acc: 519/624 (83.173%)\n",
            "Eval:  Avg_Loss: 0.48712   Acc: 170/208 (81.731%)\n",
            "Train Epoch: 168   Avg_Loss: 0.37334   Acc: 527/624 (84.455%)\n",
            "Eval:  Avg_Loss: 0.47541   Acc: 169/208 (81.250%)\n",
            "Train Epoch: 169   Avg_Loss: 0.38401   Acc: 511/624 (81.891%)\n",
            "Eval:  Avg_Loss: 0.48554   Acc: 164/208 (78.846%)\n",
            "Train Epoch: 170   Avg_Loss: 0.38388   Acc: 518/624 (83.013%)\n",
            "Eval:  Avg_Loss: 0.47993   Acc: 170/208 (81.731%)\n",
            "Train Epoch: 171   Avg_Loss: 0.37759   Acc: 518/624 (83.013%)\n",
            "Eval:  Avg_Loss: 0.48219   Acc: 171/208 (82.212%)\n",
            "Train Epoch: 172   Avg_Loss: 0.38232   Acc: 512/624 (82.051%)\n",
            "Eval:  Avg_Loss: 0.48765   Acc: 170/208 (81.731%)\n",
            "Train Epoch: 173   Avg_Loss: 0.37275   Acc: 525/624 (84.135%)\n",
            "Eval:  Avg_Loss: 0.48827   Acc: 171/208 (82.212%)\n",
            "Train Epoch: 174   Avg_Loss: 0.38021   Acc: 516/624 (82.692%)\n",
            "Eval:  Avg_Loss: 0.48016   Acc: 168/208 (80.769%)\n",
            "Train Epoch: 175   Avg_Loss: 0.37161   Acc: 518/624 (83.013%)\n",
            "Eval:  Avg_Loss: 0.47384   Acc: 166/208 (79.808%)\n",
            "Train Epoch: 176   Avg_Loss: 0.36984   Acc: 517/624 (82.853%)\n",
            "Eval:  Avg_Loss: 0.47816   Acc: 166/208 (79.808%)\n",
            "Train Epoch: 177   Avg_Loss: 0.37795   Acc: 521/624 (83.494%)\n",
            "Eval:  Avg_Loss: 0.47847   Acc: 168/208 (80.769%)\n",
            "Train Epoch: 178   Avg_Loss: 0.37025   Acc: 529/624 (84.776%)\n",
            "Eval:  Avg_Loss: 0.48568   Acc: 170/208 (81.731%)\n",
            "Train Epoch: 179   Avg_Loss: 0.36763   Acc: 521/624 (83.494%)\n",
            "Eval:  Avg_Loss: 0.47903   Acc: 165/208 (79.327%)\n",
            "Train Epoch: 180   Avg_Loss: 0.36582   Acc: 525/624 (84.135%)\n",
            "Eval:  Avg_Loss: 0.48562   Acc: 166/208 (79.808%)\n",
            "Train Epoch: 181   Avg_Loss: 0.36092   Acc: 524/624 (83.974%)\n",
            "Eval:  Avg_Loss: 0.49929   Acc: 170/208 (81.731%)\n",
            "Train Epoch: 182   Avg_Loss: 0.36548   Acc: 522/624 (83.654%)\n",
            "Eval:  Avg_Loss: 0.48682   Acc: 167/208 (80.288%)\n",
            "Train Epoch: 183   Avg_Loss: 0.36631   Acc: 520/624 (83.333%)\n",
            "Eval:  Avg_Loss: 0.48708   Acc: 167/208 (80.288%)\n",
            "Train Epoch: 184   Avg_Loss: 0.40707   Acc: 499/624 (79.968%)\n",
            "Eval:  Avg_Loss: 0.50348   Acc: 160/208 (76.923%)\n",
            "Train Epoch: 185   Avg_Loss: 0.37871   Acc: 523/624 (83.814%)\n",
            "Eval:  Avg_Loss: 0.47811   Acc: 169/208 (81.250%)\n",
            "Train Epoch: 186   Avg_Loss: 0.36271   Acc: 521/624 (83.494%)\n",
            "Eval:  Avg_Loss: 0.48393   Acc: 167/208 (80.288%)\n",
            "Train Epoch: 187   Avg_Loss: 0.36228   Acc: 526/624 (84.295%)\n",
            "Eval:  Avg_Loss: 0.49075   Acc: 167/208 (80.288%)\n",
            "Train Epoch: 188   Avg_Loss: 0.36076   Acc: 524/624 (83.974%)\n",
            "Eval:  Avg_Loss: 0.48789   Acc: 164/208 (78.846%)\n",
            "Train Epoch: 189   Avg_Loss: 0.36402   Acc: 523/624 (83.814%)\n",
            "Eval:  Avg_Loss: 0.48508   Acc: 167/208 (80.288%)\n",
            "Train Epoch: 190   Avg_Loss: 0.35963   Acc: 527/624 (84.455%)\n",
            "Eval:  Avg_Loss: 0.49004   Acc: 166/208 (79.808%)\n",
            "Train Epoch: 191   Avg_Loss: 0.37166   Acc: 517/624 (82.853%)\n",
            "Eval:  Avg_Loss: 0.49799   Acc: 168/208 (80.769%)\n",
            "Train Epoch: 192   Avg_Loss: 0.36099   Acc: 527/624 (84.455%)\n",
            "Eval:  Avg_Loss: 0.49102   Acc: 168/208 (80.769%)\n",
            "Train Epoch: 193   Avg_Loss: 0.36317   Acc: 521/624 (83.494%)\n",
            "Eval:  Avg_Loss: 0.49442   Acc: 165/208 (79.327%)\n",
            "Train Epoch: 194   Avg_Loss: 0.36919   Acc: 525/624 (84.135%)\n",
            "Eval:  Avg_Loss: 0.49672   Acc: 166/208 (79.808%)\n",
            "Train Epoch: 195   Avg_Loss: 0.36888   Acc: 524/624 (83.974%)\n",
            "Eval:  Avg_Loss: 0.50940   Acc: 168/208 (80.769%)\n",
            "Train Epoch: 196   Avg_Loss: 0.36367   Acc: 523/624 (83.814%)\n",
            "Eval:  Avg_Loss: 0.49586   Acc: 167/208 (80.288%)\n",
            "Train Epoch: 197   Avg_Loss: 0.36504   Acc: 521/624 (83.494%)\n",
            "Eval:  Avg_Loss: 0.50133   Acc: 167/208 (80.288%)\n",
            "Train Epoch: 198   Avg_Loss: 0.35938   Acc: 524/624 (83.974%)\n",
            "Eval:  Avg_Loss: 0.51743   Acc: 168/208 (80.769%)\n",
            "Train Epoch: 199   Avg_Loss: 0.37198   Acc: 526/624 (84.295%)\n",
            "Eval:  Avg_Loss: 0.51988   Acc: 169/208 (81.250%)\n",
            "Train Epoch: 200   Avg_Loss: 0.35486   Acc: 528/624 (84.615%)\n",
            "Eval:  Avg_Loss: 0.49958   Acc: 163/208 (78.365%)\n",
            "\n",
            "\n",
            "\n",
            "Optimization ended.\n",
            "\n"
          ],
          "name": "stdout"
        }
      ]
    },
    {
      "cell_type": "markdown",
      "metadata": {
        "id": "86OZRLrjavmd"
      },
      "source": [
        "## Interpreting the output of the neural network"
      ]
    },
    {
      "cell_type": "code",
      "metadata": {
        "id": "mklvQruYavme",
        "colab": {
          "base_uri": "https://localhost:8080/"
        },
        "outputId": "b3f04cc0-489a-45b7-c97e-afe3c7365172"
      },
      "source": [
        "# Activate the evaluation mode\n",
        "neural_net = neural_net.eval()\n",
        "\n",
        "# Select the first 10 data points of the validation set\n",
        "data, target = val_dataset[0:10]\n",
        "data = data.to(device)\n",
        "\n",
        "# Executing the neural network\n",
        "output = neural_net(data)   # equivalent to neural_net.forward(data)\n",
        "\n",
        "# Transform the output into a probability distribution with a softmax function\n",
        "output_proba = F.softmax(output, dim=1)\n",
        "\n",
        "# Print the probability\n",
        "print(output_proba)"
      ],
      "execution_count": 29,
      "outputs": [
        {
          "output_type": "stream",
          "text": [
            "tensor([[0.8373, 0.1627],\n",
            "        [0.0082, 0.9918],\n",
            "        [0.8018, 0.1982],\n",
            "        [0.6408, 0.3592],\n",
            "        [0.9871, 0.0129],\n",
            "        [0.9324, 0.0676],\n",
            "        [0.1214, 0.8786],\n",
            "        [0.0846, 0.9154],\n",
            "        [0.9463, 0.0537],\n",
            "        [0.9968, 0.0032]], device='cuda:0', grad_fn=<SoftmaxBackward>)\n"
          ],
          "name": "stdout"
        }
      ]
    },
    {
      "cell_type": "code",
      "metadata": {
        "id": "RvIEqKt0qjeT",
        "colab": {
          "base_uri": "https://localhost:8080/"
        },
        "outputId": "5ad845e4-12a2-4b0d-ca96-2dabcf302d4e"
      },
      "source": [
        "# For each example, retrieve the class with the highest probability.\n",
        "_, prediction = torch.max(output_proba, dim=1)\n",
        "\n",
        "print(\"Model predictions\")\n",
        "print(prediction)\n",
        "\n",
        "print(\"Targets\")\n",
        "print(target)"
      ],
      "execution_count": 30,
      "outputs": [
        {
          "output_type": "stream",
          "text": [
            "Model predictions\n",
            "tensor([0, 1, 0, 0, 0, 0, 1, 1, 0, 0], device='cuda:0')\n",
            "Targets\n",
            "tensor([0, 0, 0, 1, 1, 0, 1, 1, 0, 0])\n"
          ],
          "name": "stdout"
        }
      ]
    },
    {
      "cell_type": "markdown",
      "metadata": {
        "id": "V11J3Jihavmy"
      },
      "source": [
        "## Visualizing of the learning curve"
      ]
    },
    {
      "cell_type": "markdown",
      "metadata": {
        "id": "j9_9C_tXavmz"
      },
      "source": [
        "Learning curves allow detecting problems that may have occurred during learning, for example, unstable learning, underfitting, or overfitting."
      ]
    },
    {
      "cell_type": "code",
      "metadata": {
        "id": "iNcbpl0tavm0",
        "colab": {
          "base_uri": "https://localhost:8080/",
          "height": 279
        },
        "outputId": "c10b48cc-2032-4731-9e81-b061e31b474f"
      },
      "source": [
        "x = list(range(len(train_losses)))\n",
        "ax = plt.subplot(111)\n",
        "plt.plot(x, train_losses, 'r', label=\"Train\")\n",
        "plt.plot(x, val_losses, 'g', label=\"Validation\")\n",
        "plt.xlabel('epoch')\n",
        "plt.ylabel('Cross-entropy loss')\n",
        "plt.grid()\n",
        "leg = plt.legend(loc='best', ncol=2, mode=\"expand\", shadow=False, fancybox=False)\n",
        "leg.get_frame().set_alpha(0.99)"
      ],
      "execution_count": 31,
      "outputs": [
        {
          "output_type": "display_data",
          "data": {
            "image/png": "[encoded data removed]",
            "text/plain": [
              "<Figure size 432x288 with 1 Axes>"
            ]
          },
          "metadata": {
            "tags": [],
            "needs_background": "light"
          }
        }
      ]
    },
    {
      "cell_type": "code",
      "metadata": {
        "id": "g-VGQ2pMavm4",
        "colab": {
          "base_uri": "https://localhost:8080/",
          "height": 279
        },
        "outputId": "6f92d9f3-3fc5-424e-92f0-56569d3cda31"
      },
      "source": [
        "x = list(range(len(train_accuracies)))\n",
        "ax = plt.subplot(111)\n",
        "plt.plot(x, train_accuracies, 'r', label=\"Train\")\n",
        "plt.plot(x, val_accuracies, 'g', label=\"Validation\")\n",
        "plt.xlabel('epoch')\n",
        "plt.ylabel('Accuracy')\n",
        "plt.grid()\n",
        "leg = plt.legend(loc='best', ncol=2, mode=\"expand\", shadow=False, fancybox=False)\n",
        "leg.get_frame().set_alpha(0.99)"
      ],
      "execution_count": 32,
      "outputs": [
        {
          "output_type": "display_data",
          "data": {
            "image/png": "[encoded data removed]",
            "text/plain": [
              "<Figure size 432x288 with 1 Axes>"
            ]
          },
          "metadata": {
            "tags": [],
            "needs_background": "light"
          }
        }
      ]
    },
    {
      "cell_type": "markdown",
      "metadata": {
        "id": "8oktkpkuqjet"
      },
      "source": [
        "### Exercise 6\n",
        "\n",
        "*   What do you observe in the previous graphs?\n",
        "*   At which epoch is it interesting to retrieve the model parameters for inference?"
      ]
    },
    {
      "cell_type": "markdown",
      "metadata": {
        "id": "qwhRt39yzug-"
      },
      "source": [
        "... # To complete.\n"
      ]
    },
    {
      "cell_type": "markdown",
      "metadata": {
        "id": "XK_eUsq3avm8"
      },
      "source": [
        "## Evaluating the model"
      ]
    },
    {
      "cell_type": "markdown",
      "metadata": {
        "id": "4UREO5elavm8"
      },
      "source": [
        "We can finally evaluate our model on our test set and compare with the validation set."
      ]
    },
    {
      "cell_type": "code",
      "metadata": {
        "id": "3UZPvzjxlusr",
        "colab": {
          "base_uri": "https://localhost:8080/"
        },
        "outputId": "f479266c-8f36-41a3-a951-7be9829dbd4a"
      },
      "source": [
        "valid_loss, valid_acc = evaluate(neural_net, val_loader, device)"
      ],
      "execution_count": 33,
      "outputs": [
        {
          "output_type": "stream",
          "text": [
            "Eval:  Avg_Loss: 0.49958   Acc: 163/208 (78.365%)\n"
          ],
          "name": "stdout"
        }
      ]
    },
    {
      "cell_type": "code",
      "metadata": {
        "id": "pPWvDM-qavm8",
        "colab": {
          "base_uri": "https://localhost:8080/"
        },
        "outputId": "2b618437-74df-4f40-cce7-fd0310423d6b"
      },
      "source": [
        "test_loss, test_acc = evaluate(neural_net, test_loader, device)"
      ],
      "execution_count": 34,
      "outputs": [
        {
          "output_type": "stream",
          "text": [
            "Eval:  Avg_Loss: 0.51119   Acc: 168/209 (80.383%)\n"
          ],
          "name": "stdout"
        }
      ]
    },
    {
      "cell_type": "markdown",
      "metadata": {
        "id": "EvP_-KUwqjez"
      },
      "source": [
        "### Exercise 7\n",
        "\n",
        "* Compare validation and test metrics.\n",
        "* Do you think the chosen features are informative of the fate of the passenger?"
      ]
    },
    {
      "cell_type": "markdown",
      "metadata": {
        "id": "Ov4CKUFh5tun"
      },
      "source": [
        "... # To complete.\n",
        "\n",
        "\n"
      ]
    },
    {
      "cell_type": "code",
      "metadata": {
        "id": "rueFjis6YlLN"
      },
      "source": [
        ""
      ],
      "execution_count": null,
      "outputs": []
    }
  ]
}